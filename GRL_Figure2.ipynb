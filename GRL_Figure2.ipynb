{
 "cells": [
  {
   "cell_type": "markdown",
   "metadata": {},
   "source": [
    "## GWO & Hail Environment Relationship\n",
    "##### Dr. Victor Gensini (Fall 2017)\n",
    "##### Department of Geographic and Atmospheric Sciences\n",
    "<img style=\"float:left;height:40px\"src=\"https://encrypted-tbn0.gstatic.com/images?q=tbn:ANd9GcQthtdrc2lZyEOC1iiwubFyvNfzJE7q7_GCTdlFF3peKckmi7cN\">"
   ]
  },
  {
   "cell_type": "code",
   "execution_count": 1,
   "metadata": {},
   "outputs": [],
   "source": [
    "import Ngl, datetime, os, calendar\n",
    "import numpy as np\n",
    "import pandas as pd\n",
    "from netCDF4 import date2num,date2index\n",
    "from netCDF4 import Dataset\n",
    "from IPython.display import Image"
   ]
  },
  {
   "cell_type": "code",
   "execution_count": 2,
   "metadata": {},
   "outputs": [],
   "source": [
    "datadir='/run/media/vgensini/Victor_4TB/narr/scp/' #Location of netCDF data"
   ]
  },
  {
   "cell_type": "markdown",
   "metadata": {},
   "source": [
    "### GWO data"
   ]
  },
  {
   "cell_type": "code",
   "execution_count": 3,
   "metadata": {},
   "outputs": [],
   "source": [
    "gwo_file = 'gwo.csv'\n",
    "gwo_df = pd.read_csv(gwo_file)\n",
    "formats = '%Y-%m-%d'\n",
    "gwo_df['date']=pd.to_datetime(gwo_df['date'], format=formats)\n",
    "gwo_df=gwo_df.set_index(pd.DatetimeIndex(gwo_df['date']))\n",
    "amp=1\n",
    "phase=1.5\n",
    "query='amp>=%s & phase==%s' % (amp,phase)\n",
    "phase_amp_df = gwo_df.query(query)"
   ]
  },
  {
   "cell_type": "markdown",
   "metadata": {},
   "source": [
    "### Read in one file to capture lat/lons"
   ]
  },
  {
   "cell_type": "code",
   "execution_count": 4,
   "metadata": {},
   "outputs": [],
   "source": [
    "nc1 = Dataset('/run/media/vgensini/Victor_4TB/narr/narr_conv/narr_conv_20161201_0000.nc','r',format='NETCDF4_CLASSIC')\n",
    "lats = nc1.variables[\"lats\"][0][:][:]\n",
    "lons = nc1.variables[\"lons\"][0][:][:]\n",
    "nc1.close()"
   ]
  },
  {
   "cell_type": "code",
   "execution_count": 5,
   "metadata": {},
   "outputs": [],
   "source": [
    "scp_climo = np.empty((0,277,349))\n",
    "scp_final = np.empty((0,38,277,349))\n",
    "nc = Dataset('scp_cin_1979_2016.nc','r',format='NETCDF4_CLASSIC')"
   ]
  },
  {
   "cell_type": "code",
   "execution_count": 6,
   "metadata": {},
   "outputs": [
    {
     "name": "stdout",
     "output_type": "stream",
     "text": [
      "(31, 38, 277, 349)\n"
     ]
    }
   ],
   "source": [
    "###############################\n",
    "#Enter the start and end date:#\n",
    "######################################\n",
    "#start_input = '1979110100' #YYYYMMDDHH\n",
    "#end_input  =  '2016110100' #YYYYMMDDHH\n",
    "######################################\n",
    "months=['01','02','03','04','05','06','07','08','09','10','11','12']\n",
    "for month in months:\n",
    "    if month=='01' or month=='03' or month=='05' or month=='07' or month=='08' or month=='10' or month=='12':\n",
    "        emon = 31\n",
    "    elif month=='04' or month=='06' or month=='09' or month=='11':\n",
    "        emon = 30\n",
    "    if month=='02':\n",
    "        emon = 28\n",
    "    daycount=1\n",
    "    while daycount <= emon:\n",
    "        start_input = '1979'+month+'%02d'%daycount+'21'    #YYYYMMDDHH\n",
    "        end_input  =  '2016'+month+'%02d'%daycount+'21' #YYYYMMDDHH\n",
    "        begdate = datetime.datetime.strptime(start_input,\"%Y%m%d%H\")\n",
    "        enddate = datetime.datetime.strptime(end_input,\"%Y%m%d%H\")\n",
    "        dates = []\n",
    "        while begdate <= enddate:\n",
    "            if calendar.isleap(begdate.year) == True:   \n",
    "                dates.append(begdate)\n",
    "                begdate+=datetime.timedelta(days=1)\n",
    "            else:\n",
    "                dates.append(begdate)\n",
    "            begdate+=datetime.timedelta(days=365)\n",
    "        #do things here\n",
    "        #print dates\n",
    "        #print len(dates)\n",
    "        for i,dt in enumerate(dates):\n",
    "            idex = date2index(dt,nc['time'])\n",
    "            scp = nc.variables[\"scp\"][idex][:][:]\n",
    "            cin  = nc.variables[\"sbcin\"][idex][:][:]\n",
    "            #cin mask\n",
    "            term5 = np.fabs(cin)\n",
    "            term5[np.fabs(cin)>50]=0.\n",
    "            term5[np.fabs(cin)<=50]=1.\n",
    "            scp = scp * term5\n",
    "            scp_climo = np.append(scp_climo,[scp],axis=0)\n",
    "            #print scp_climo.shape\n",
    "        scp_final=np.append(scp_final,[scp_climo],axis=0)\n",
    "        scp_climo = np.empty((0,277,349))\n",
    "        daycount+=1\n",
    "print scp_final.shape"
   ]
  },
  {
   "cell_type": "code",
   "execution_count": 7,
   "metadata": {},
   "outputs": [
    {
     "ename": "NameError",
     "evalue": "name 'ph1_df' is not defined",
     "output_type": "error",
     "traceback": [
      "\u001b[0;31m---------------------------------------------------------------------------\u001b[0m",
      "\u001b[0;31mNameError\u001b[0m                                 Traceback (most recent call last)",
      "\u001b[0;32m<ipython-input-7-9f19dff13bb7>\u001b[0m in \u001b[0;36m<module>\u001b[0;34m()\u001b[0m\n\u001b[0;32m----> 1\u001b[0;31m \u001b[0;32mfor\u001b[0m \u001b[0mi\u001b[0m\u001b[0;34m,\u001b[0m\u001b[0mdt\u001b[0m \u001b[0;32min\u001b[0m \u001b[0menumerate\u001b[0m\u001b[0;34m(\u001b[0m\u001b[0mph1_df\u001b[0m\u001b[0;34m[\u001b[0m\u001b[0;34m'date'\u001b[0m\u001b[0;34m]\u001b[0m\u001b[0;34m)\u001b[0m\u001b[0;34m:\u001b[0m\u001b[0;34m\u001b[0m\u001b[0m\n\u001b[0m\u001b[1;32m      2\u001b[0m     \u001b[0midex\u001b[0m \u001b[0;34m=\u001b[0m \u001b[0mdate2index\u001b[0m\u001b[0;34m(\u001b[0m\u001b[0mdt\u001b[0m\u001b[0;34m,\u001b[0m\u001b[0mnc\u001b[0m\u001b[0;34m[\u001b[0m\u001b[0;34m'time'\u001b[0m\u001b[0;34m]\u001b[0m\u001b[0;34m)\u001b[0m\u001b[0;34m\u001b[0m\u001b[0m\n\u001b[1;32m      3\u001b[0m     \u001b[0mscp\u001b[0m \u001b[0;34m=\u001b[0m \u001b[0mnc\u001b[0m\u001b[0;34m.\u001b[0m\u001b[0mvariables\u001b[0m\u001b[0;34m[\u001b[0m\u001b[0;34m\"scp\"\u001b[0m\u001b[0;34m]\u001b[0m\u001b[0;34m[\u001b[0m\u001b[0midex\u001b[0m\u001b[0;34m]\u001b[0m\u001b[0;34m[\u001b[0m\u001b[0;34m:\u001b[0m\u001b[0;34m]\u001b[0m\u001b[0;34m[\u001b[0m\u001b[0;34m:\u001b[0m\u001b[0;34m]\u001b[0m\u001b[0;34m\u001b[0m\u001b[0m\n\u001b[1;32m      4\u001b[0m     \u001b[0mcin\u001b[0m  \u001b[0;34m=\u001b[0m \u001b[0mnc\u001b[0m\u001b[0;34m.\u001b[0m\u001b[0mvariables\u001b[0m\u001b[0;34m[\u001b[0m\u001b[0;34m\"sbcin\"\u001b[0m\u001b[0;34m]\u001b[0m\u001b[0;34m[\u001b[0m\u001b[0midex\u001b[0m\u001b[0;34m]\u001b[0m\u001b[0;34m[\u001b[0m\u001b[0;34m:\u001b[0m\u001b[0;34m]\u001b[0m\u001b[0;34m[\u001b[0m\u001b[0;34m:\u001b[0m\u001b[0;34m]\u001b[0m\u001b[0;34m\u001b[0m\u001b[0m\n\u001b[1;32m      5\u001b[0m     \u001b[0;31m#cin mask\u001b[0m\u001b[0;34m\u001b[0m\u001b[0;34m\u001b[0m\u001b[0m\n",
      "\u001b[0;31mNameError\u001b[0m: name 'ph1_df' is not defined"
     ]
    }
   ],
   "source": [
    "for i,dt in enumerate(ph1_df['date']):\n",
    "    idex = date2index(dt,nc['time'])\n",
    "    scp = nc.variables[\"scp\"][idex][:][:]\n",
    "    cin  = nc.variables[\"sbcin\"][idex][:][:]\n",
    "    #cin mask\n",
    "    term5 = np.fabs(cin)\n",
    "    term5[np.fabs(cin)>50]=0.\n",
    "    term5[np.fabs(cin)<=50]=1.\n",
    "    scp = scp * term5\n",
    "    scp_climo = np.append(scp_climo,[scp],axis=0) #Append SCP values to a 3d array\n",
    "nc.close()\n",
    "max_scp = np.max(scp_climo,axis=0) #Find max SCP value from all the dates"
   ]
  },
  {
   "cell_type": "markdown",
   "metadata": {},
   "source": [
    "### Create a nice plot using PyNGL, an interface to NCL for Python\n",
    "#### Initialize plot resources"
   ]
  },
  {
   "cell_type": "code",
   "execution_count": null,
   "metadata": {},
   "outputs": [],
   "source": [
    "wkres           =  Ngl.Resources()                      #-- generate an resources object for workstation\n",
    "wkres.wkWidth   =  2500                                 #-- plot resolution 2500 pixel width\n",
    "wkres.wkHeight  =  2000                                 #-- plot resolution 2000 pixel height\n",
    "wks_type        = \"png\"                                 #-- graphics output type\n",
    "wks             =  Ngl.open_wks(wks_type,\"test\",wkres)  #-- Open the Ngl canvas for drawing"
   ]
  },
  {
   "cell_type": "code",
   "execution_count": null,
   "metadata": {},
   "outputs": [],
   "source": [
    "res                        =  Ngl.Resources()\n",
    "res.mpFillOn               = True                     # map fill on\n",
    "res.mpOutlineOn            = True                     # map outline on\n",
    "res.mpLandFillColor        = \"transparent\"            # fill land transparent\n",
    "res.mpOceanFillColor       = \"grey\"                   # fill ocean grey\n",
    "res.mpInlandWaterFillColor = \"grey\"                   # fill inland water grey\n",
    "res.mpFillDrawOrder        = \"PostDraw\"               # draw mapfill after contour plot\n",
    "res.mpGridAndLimbOn        = True                     # turn on gridlines\n",
    "res.mpProjection           = \"LambertConformal\"       # set map projection\n",
    "res.cnLevelSelectionMode   = \"ManualLevels\"           # set manual contour levels\n",
    "res.cnMinLevelValF         = 1                        # set contour min value\n",
    "res.cnMaxLevelValF         = 25                       # set contour max value\n",
    "res.cnLevelSpacingF        = 1                        # set contour interval\n",
    "res.cnFillOn               = True                     # turn on contour fill\n",
    "res.cnLinesOn              = False                    # turn off contour lines\n",
    "res.cnLineLabelsOn         = False                    # turn off line labels\n",
    "res.cnFillMode             = \"RasterFill\"             # These two resources\n",
    "res.trGridType             = \"TriangularMesh\"         # can speed up plotting.\n",
    "res.cnFillPalette          = \"precip3_16lev\"          # pick a colorbar\n",
    "res.mpOutlineBoundarySets  = \"GeophysicalAndUSStates\" # pick map outline boundaries\n",
    "res.mpLimitMode            = \"Corners\"                #-- select a sub-region\n",
    "res.mpLeftCornerLonF       =  -120                    #-- left longitude value\n",
    "res.mpRightCornerLonF      =  -60                     #-- right longitude value\n",
    "res.mpLeftCornerLatF       =  20                      #-- left latitude value\n",
    "res.mpRightCornerLatF      =  50                      #-- right latitude value\n",
    "res.lbOrientation          = \"horizontal\"             # colorbar label orientation; default is vertical\n",
    "res.sfXArray               = lons                     # set array of x values from netCDF longitudes\n",
    "res.sfYArray               = lats                     # set array of y valyes from netCDF latitudes\n",
    "res.tiMainString           = \"Maximum SCP value (1979-2016)\"  # Make a plot title\n",
    "res.tiMainFontHeightF      = 0.015                    # set plot font title size\n",
    "res.mpLambertParallel1F    = 33                       # set lambert 1st parallel\n",
    "res.mpLambertParallel2F    = 45                       # set lambert 2nd parallel\n",
    "res.mpLambertMeridianF     = -95                      # set lambert centering longitude\n",
    "plot = Ngl.contour_map(wks,max_scp,res)               # make a countour map\n",
    "Ngl.end()                                             # close the resources"
   ]
  },
  {
   "cell_type": "markdown",
   "metadata": {},
   "source": [
    "### Display the image"
   ]
  },
  {
   "cell_type": "code",
   "execution_count": null,
   "metadata": {},
   "outputs": [],
   "source": [
    "Image(filename='test.png')"
   ]
  }
 ],
 "metadata": {
  "kernelspec": {
   "display_name": "Python [conda env:gwo]",
   "language": "python",
   "name": "conda-env-gwo-py"
  },
  "language_info": {
   "codemirror_mode": {
    "name": "ipython",
    "version": 2
   },
   "file_extension": ".py",
   "mimetype": "text/x-python",
   "name": "python",
   "nbconvert_exporter": "python",
   "pygments_lexer": "ipython2",
   "version": "2.7.11"
  }
 },
 "nbformat": 4,
 "nbformat_minor": 2
}
