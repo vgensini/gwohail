{
 "cells": [
  {
   "cell_type": "markdown",
   "metadata": {
    "collapsed": true
   },
   "source": [
    "## Exploratory analysis of GWO / U.S. Hail relationship\n",
    "###### Inputs: gwo.csv  |  1955-2016_hail.csv\n",
    "##### Dr. Victor Gensini (Fall 2017)\n",
    "##### Department of Geographic and Atmospheric Sciences\n",
    "##### Northern Illinois University"
   ]
  },
  {
   "cell_type": "markdown",
   "metadata": {},
   "source": [
    "### Import libraries"
   ]
  },
  {
   "cell_type": "code",
   "execution_count": 1,
   "metadata": {
    "collapsed": false
   },
   "outputs": [],
   "source": [
    "import numpy as np\n",
    "import pandas as pd\n",
    "import matplotlib\n",
    "import matplotlib.pyplot as plt\n",
    "import scipy.ndimage"
   ]
  },
  {
   "cell_type": "markdown",
   "metadata": {},
   "source": [
    "### Read in datasets & do some Pandas magic"
   ]
  },
  {
   "cell_type": "code",
   "execution_count": 2,
   "metadata": {
    "collapsed": true
   },
   "outputs": [],
   "source": [
    "hail_file = '1955-2016_hail.csv'\n",
    "gwo_file = 'gwo.csv'\n",
    "hail_df = pd.read_csv(hail_file)\n",
    "gwo_df = pd.read_csv(gwo_file)\n",
    "format = '%Y-%m-%d'\n",
    "hail_df['date']=pd.to_datetime(hail_df['date'], format=format)\n",
    "hail_df=hail_df.set_index(pd.DatetimeIndex(hail_df['date']))\n",
    "gwo_df['date']=pd.to_datetime(gwo_df['date'], format=format)\n",
    "gwo_df=gwo_df.set_index(pd.DatetimeIndex(gwo_df['date']))\n",
    "sev_hail_df = gwo_df.loc[gwo_df['date'].isin(hail_df.date[(hail_df.mag>=1) & (gwo_df.amp>=1)])] #Severe Hail\n",
    "sig_hail_df = gwo_df.loc[gwo_df['date'].isin(hail_df.date[(hail_df.mag>=2) & (gwo_df.amp>=1)])] #SigSevere Hail\n",
    "giant_hail_df = gwo_df.loc[gwo_df['date'].isin(hail_df.date[(hail_df.mag>=4) & (gwo_df.amp>=1)])] #Giant Hail\n",
    "gwo1days_df = gwo_df.loc[gwo_df.amp>=1] #All GWO Days > 1"
   ]
  },
  {
   "cell_type": "markdown",
   "metadata": {},
   "source": [
    "### Create 2d histograms"
   ]
  },
  {
   "cell_type": "code",
   "execution_count": 3,
   "metadata": {
    "collapsed": false
   },
   "outputs": [],
   "source": [
    "sev_hist,xedges,yedges = np.histogram2d(sev_hail_df.dt,sev_hail_df.aam,bins=40,range=[[-4,4],[-4,4]])\n",
    "sig_hist,xedges,yedges = np.histogram2d(sig_hail_df.dt,sig_hail_df.aam,bins=40,range=[[-4,4],[-4,4]])\n",
    "giant_hist,xedges,yedges = np.histogram2d(giant_hail_df.dt,giant_hail_df.aam,bins=40,range=[[-4,4],[-4,4]])\n",
    "gwo1_hist,xedges,yedges = np.histogram2d(gwo1days_df.dt,gwo1days_df.aam,bins=40,range=[[-4,4],[-4,4]])"
   ]
  },
  {
   "cell_type": "markdown",
   "metadata": {},
   "source": [
    "### Calculate probabilities"
   ]
  },
  {
   "cell_type": "code",
   "execution_count": 4,
   "metadata": {
    "collapsed": false
   },
   "outputs": [],
   "source": [
    "sev_prob = np.divide(sev_hist,np.sum(sev_hist))\n",
    "sig_prob = np.divide(sig_hist,np.sum(sig_hist))\n",
    "giant_prob = np.divide(giant_hist,np.sum(giant_hist))\n",
    "gwo1_prob = np.divide(gwo1_hist,np.sum(gwo1_hist))"
   ]
  },
  {
   "cell_type": "markdown",
   "metadata": {},
   "source": [
    "### Calculate probability anomalies"
   ]
  },
  {
   "cell_type": "code",
   "execution_count": 5,
   "metadata": {
    "collapsed": false
   },
   "outputs": [],
   "source": [
    "sev_anom = sev_prob - gwo1_prob\n",
    "sig_anom = sig_prob - gwo1_prob\n",
    "giant_anom = giant_prob - gwo1_prob\n",
    "\n",
    "#Guassian smooth probs\n",
    "sigma = 1\n",
    "sev_anom = scipy.ndimage.filters.gaussian_filter(sev_anom,sigma,order=0)\n",
    "sig_anom = scipy.ndimage.filters.gaussian_filter(sig_anom,sigma,order=0)\n",
    "giant_anom = scipy.ndimage.filters.gaussian_filter(giant_anom,sigma,order=0)"
   ]
  },
  {
   "cell_type": "markdown",
   "metadata": {},
   "source": [
    "### Make plots"
   ]
  },
  {
   "cell_type": "code",
   "execution_count": 6,
   "metadata": {
    "collapsed": false
   },
   "outputs": [
    {
     "ename": "SyntaxError",
     "evalue": "invalid syntax (<ipython-input-6-a42251dcb741>, line 34)",
     "output_type": "error",
     "traceback": [
      "\u001b[0;36m  File \u001b[0;32m\"<ipython-input-6-a42251dcb741>\"\u001b[0;36m, line \u001b[0;32m34\u001b[0m\n\u001b[0;31m    fig.suptitle('Hail Day Probability Anomaly by GWO Phase'/n '1958-2018 (All months)', fontsize=22)\u001b[0m\n\u001b[0m                                                                                      ^\u001b[0m\n\u001b[0;31mSyntaxError\u001b[0m\u001b[0;31m:\u001b[0m invalid syntax\n"
     ]
    }
   ],
   "source": [
    "fig, axes = plt.subplots(nrows=3,ncols=1)\n",
    "plt.subplots_adjust(left=None, right=None)\n",
    "fig.set_size_inches(18.5,21)\n",
    "for ax in np.arange(0,3,1):\n",
    "    axes.flat[ax].plot([-4,0],[4,0],'black',ls='--')\n",
    "    axes.flat[ax].plot([-4,0],[0,0],'black',ls='--')\n",
    "    axes.flat[ax].plot([-4,0],[-4,0],'black',ls='--')\n",
    "    axes.flat[ax].plot([0,0],[-4,0],'black',ls='--')\n",
    "    axes.flat[ax].plot([4,0],[-4,0],'black',ls='--')\n",
    "    axes.flat[ax].plot([4,0],[0,0],'black',ls='--')\n",
    "    axes.flat[ax].plot([4,0],[4,0],'black',ls='--')\n",
    "    axes.flat[ax].plot([0,0],[4,0],'black',ls='--')\n",
    "    axes.flat[ax].annotate('8', xy=(-3.8, 2),  xycoords='data',color='b', fontsize=14)\n",
    "    axes.flat[ax].annotate('1', xy=(-3.8, -2),  xycoords='data',color='b', fontsize=14)\n",
    "    axes.flat[ax].annotate('2', xy=(-2,-3.8),  xycoords='data',color='b', fontsize=14)\n",
    "    axes.flat[ax].annotate('3', xy=(2,-3.8),  xycoords='data',color='b', fontsize=14)\n",
    "    axes.flat[ax].annotate('4', xy=(3.6,-2),  xycoords='data',color='b', fontsize=14)\n",
    "    axes.flat[ax].annotate('5', xy=(3.6,2),  xycoords='data',color='b', fontsize=14)\n",
    "    axes.flat[ax].annotate('6', xy=(2,3.6),  xycoords='data',color='b', fontsize=14)\n",
    "    axes.flat[ax].annotate('7', xy=(-2,3.6),  xycoords='data',color='b', fontsize=14)\n",
    "\n",
    "temper_anom = ['#3c009c','#3609A5','#3013AF','#2A1CB9','#2426C3','#1E30CD','#1839D7','#1243E1','#0C4CEB','#0656F5','#0060FF','#0068FF','#0071FF','#0079FF','#0082FF','#008BFF','#0093FF','#009CFF','#00A4FF','#00ADFF','#00B6FF','#0CBDFF','#18C4FF','#24CBFF','#30D3FF','#3CDAFF','#48E1FF','#54E9FF','#60F0FF','#6CF7FF','#79FFFF','#86FFFF','#93FFFF','#A1FFFF','#AEFFFF','#BCFFFF','#C9FFFF','#D6FFFF','#E4FFFF','#F1FFFF','#FFFFFF','#FFFFFF','#FFFFFF','#FFFEE5','#FFFDCC','#FFFCB2','#FFFB99','#FFFB7F','#FFFA66','#FFF94C','#FFF833','#FFF719','#FFF700','#FFEB00','#FFDF00','#FFD300','#FFC700','#FFBB00','#FFAF00','#FFA300','#FF9700','#FF8B00','#FF7F00','#FE7200','#FE6500','#FE5800','#FE4C00','#FE3F00','#FE3200','#FE2600','#FE1900','#FE0C00','#FE0000','#F50000','#EC0000','#E30000','#DA0000','#D20000','#C90000','#C00000','#B70000','#AE0000','#A60000']\n",
    "cmap = matplotlib.colors.ListedColormap(temper_anom)\n",
    "extent = [xedges[0], xedges[-1], yedges[0], yedges[-1] ]\n",
    "track=axes.flat[0].imshow(sev_anom.T,extent=extent,interpolation='nearest',origin='lower',cmap=cmap,vmax=.0008,vmin=-.0008)\n",
    "axes.flat[1].imshow(sig_anom.T,extent=extent,interpolation='nearest',origin='lower',cmap=cmap,vmax=.0008,vmin=-.0008)\n",
    "axes.flat[2].imshow(giant_anom.T,extent=extent,interpolation='nearest',origin='lower',cmap=cmap,vmax=.0008,vmin=-.0008)\n",
    "cbar = fig.colorbar(track,ax=axes.ravel().tolist(),ticks=np.arange(-.0008,.000815,.0002), orientation='horizontal', pad=.03,aspect=50, shrink=.5, extend='both')\n",
    "cbar.ax.set_xticklabels(['-8','-6','-4','-2','0','2','4','6','8'])# horizontal colorbar\n",
    "cbar.set_label('Tornado Day Frequency Anomaly ' +r'$(\\times10^{-4})$' )\n",
    "axes.flat[0].annotate('Severe Hail',(.5,1.05), xycoords='axes fraction', ha='center', fontsize=18)\n",
    "axes.flat[1].annotate('Sig Severe Hail',(.5,1.05), xycoords='axes fraction', ha='center', fontsize=18)\n",
    "axes.flat[2].annotate('Giant Hail',(.5,1.05), xycoords='axes fraction', ha='center', fontsize=18)\n",
    "fig.suptitle('Hail Day Probability Anomaly by GWO Phase'/n '1958-2018 (All months)', fontsize=22)\n",
    "plt.show()"
   ]
  }
 ],
 "metadata": {
  "anaconda-cloud": {},
  "kernelspec": {
   "display_name": "Python [conda root]",
   "language": "python",
   "name": "conda-root-py"
  },
  "language_info": {
   "codemirror_mode": {
    "name": "ipython",
    "version": 2
   },
   "file_extension": ".py",
   "mimetype": "text/x-python",
   "name": "python",
   "nbconvert_exporter": "python",
   "pygments_lexer": "ipython2",
   "version": "2.7.12"
  }
 },
 "nbformat": 4,
 "nbformat_minor": 1
}
