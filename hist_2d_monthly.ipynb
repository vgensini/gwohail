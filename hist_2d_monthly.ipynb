{
 "cells": [
  {
   "cell_type": "markdown",
   "metadata": {},
   "source": [
    "## Create monthly stratified 2D histograms\n",
    "##### Dr. Victor Gensini (Fall 2017)\n",
    "##### Department of Geographic and Atmospheric Sciences\n",
    "<img style=\"float:left;height:40px\"src=\"https://encrypted-tbn0.gstatic.com/images?q=tbn:ANd9GcQthtdrc2lZyEOC1iiwubFyvNfzJE7q7_GCTdlFF3peKckmi7cN\">"
   ]
  },
  {
   "cell_type": "markdown",
   "metadata": {},
   "source": [
    "#### Necessary files to be placed in working directory\n",
    "#####  gwo.csv  |  1955-2016_hail.csv \n",
    "##### Available here: https://github.com/vgensini/gwohail"
   ]
  },
  {
   "cell_type": "markdown",
   "metadata": {},
   "source": [
    "### Import Libraries"
   ]
  },
  {
   "cell_type": "code",
   "execution_count": 1,
   "metadata": {
    "collapsed": true
   },
   "outputs": [],
   "source": [
    "import numpy as np\n",
    "import pandas as pd\n",
    "import matplotlib\n",
    "import matplotlib.pyplot as plt\n",
    "import scipy.ndimage\n",
    "import scipy.stats\n",
    "import matplotlib.font_manager as font_manager\n",
    "from matplotlib import cm\n",
    "import matplotlib.colors as colors\n",
    "from matplotlib.mlab import bivariate_normal\n",
    "from IPython.display import Image"
   ]
  },
  {
   "cell_type": "markdown",
   "metadata": {},
   "source": [
    "### Change default font"
   ]
  },
  {
   "cell_type": "code",
   "execution_count": 2,
   "metadata": {
    "collapsed": true
   },
   "outputs": [],
   "source": [
    "#fontpath = '/home/vgensini/Programs/anaconda2/lib/python2.7/site-packages/matplotlib/mpl-data/fonts/ttf/DejaVuSansMono.ttf'\n",
    "#prop = font_manager.FontProperties(fname=fontpath)\n",
    "#matplotlib.rcParams['font.family'] = prop.get_name()"
   ]
  },
  {
   "cell_type": "markdown",
   "metadata": {},
   "source": [
    "### Read in data"
   ]
  },
  {
   "cell_type": "code",
   "execution_count": 3,
   "metadata": {
    "collapsed": true
   },
   "outputs": [],
   "source": [
    "hail_file = '1955-2016_hail.csv'\n",
    "gwo_file = 'gwo.csv'\n",
    "hail_df = pd.read_csv(hail_file)\n",
    "gwo_df = pd.read_csv(gwo_file)\n",
    "formats = '%Y-%m-%d'\n",
    "formats_1 = '%m/%d/%Y'\n",
    "hail_df['datei']=pd.to_datetime(hail_df['date'], format=formats_1)\n",
    "hail_df=hail_df.set_index(pd.DatetimeIndex(hail_df['datei']))\n",
    "gwo_df['date']=pd.to_datetime(gwo_df['date'], format=formats)\n",
    "gwo_df=gwo_df.set_index(pd.DatetimeIndex(gwo_df['date']))\n",
    "query='yr>=1979 & yr<=2016 & mag>=1 & mo>=9 & mo<=11'\n",
    "sevhail_df = hail_df.query(query)\n",
    "query='yr>=1979 & yr<=2016 & mag>=2 & mo>=9 & mo<=11'\n",
    "sighail_df = hail_df.query(query)\n",
    "query='yr>=1979 & yr<=2016 & mag>=4 & mo>=9 & mo<=11'\n",
    "gianthail_df = hail_df.query(query)\n",
    "query='year>=1979 & year<=2016 & amp>=1'\n",
    "query1='year>=1979 & year<=2016 & amp<1'\n",
    "gwo1days_df = gwo_df.query(query)\n",
    "gwo_neu_days_df = gwo_df.query(query1)\n",
    "neu_hail_df=gwo_neu_days_df.loc[gwo_neu_days_df['date'].isin(sevhail_df['date'])]\n",
    "sev_hail_df=gwo1days_df.loc[gwo1days_df['date'].isin(sevhail_df['date'])]\n",
    "sig_hail_df=gwo1days_df.loc[gwo1days_df['date'].isin(sighail_df['date'])]\n",
    "giant_hail_df=gwo1days_df.loc[gwo1days_df['date'].isin(gianthail_df['date'])]"
   ]
  },
  {
   "cell_type": "markdown",
   "metadata": {},
   "source": [
    "### Calculate hail day percentiles (Given hail day, what are the ith percentile counts?)"
   ]
  },
  {
   "cell_type": "code",
   "execution_count": 4,
   "metadata": {},
   "outputs": [
    {
     "name": "stdout",
     "output_type": "stream",
     "text": [
      "24.0\n",
      "36.0\n",
      "68.5\n"
     ]
    }
   ],
   "source": [
    "sevhail_counts_df = sevhail_df.groupby('date').count() # Hail reports per hail day\n",
    "val_of_90 = sevhail_counts_df.mag.quantile(q=.90) #90th percentile hail day count\n",
    "val_of_95 = sevhail_counts_df.mag.quantile(q=.95) #95th percentile hail day count\n",
    "val_of_99 = sevhail_counts_df.mag.quantile(q=.99) #95th percentile hail day count\n",
    "print (val_of_90)\n",
    "print (val_of_95)\n",
    "print (val_of_99)"
   ]
  },
  {
   "cell_type": "markdown",
   "metadata": {},
   "source": [
    "### Calculate some probabilities & perform binomial test statistic"
   ]
  },
  {
   "cell_type": "code",
   "execution_count": 5,
   "metadata": {
    "collapsed": true
   },
   "outputs": [],
   "source": [
    "months = np.arange(1,13,1)\n",
    "phases = [0.5,1.5,2.5,3.5,4.5,5.5,6.5,7.5]\n",
    "expected_probs = [0.124779673,0.249723238,0.249723238,0.290153223,0.747498533,0.951075167,0.985081364,0.959273693,0.903048231,0.624189335,0.356445832,0.159852648,0.097388278]\n",
    "for i,month in enumerate(months):\n",
    "    for phase in phases:\n",
    "        query = 'mo == %s' % (month)\n",
    "        sev_hail_days = sevhail_df.query(query)\n",
    "        query = 'month == %s & phase== %s' % (month,phase)\n",
    "        gwo_days = gwo1days_df.query(query)\n",
    "        #print month,phase,scipy.stats.binom_test(len(gwo_days.loc[gwo_days['date'].isin(sev_hail_days['date'])]), len(gwo_days), expected_probs[i], alternative='two-sided')\n",
    "    "
   ]
  },
  {
   "cell_type": "code",
   "execution_count": 6,
   "metadata": {},
   "outputs": [
    {
     "name": "stdout",
     "output_type": "stream",
     "text": [
      "Empty DataFrame\n",
      "Columns: [year, month, day, date, aam, dt, phase, amp]\n",
      "Index: []\n",
      "Empty DataFrame\n",
      "Columns: [year, month, day, date, aam, dt, phase, amp]\n",
      "Index: []\n",
      "Empty DataFrame\n",
      "Columns: [year, month, day, date, aam, dt, phase, amp]\n",
      "Index: []\n",
      "Empty DataFrame\n",
      "Columns: [year, month, day, date, aam, dt, phase, amp]\n",
      "Index: []\n",
      "Empty DataFrame\n",
      "Columns: [year, month, day, date, aam, dt, phase, amp]\n",
      "Index: []\n",
      "Empty DataFrame\n",
      "Columns: [year, month, day, date, aam, dt, phase, amp]\n",
      "Index: []\n",
      "Empty DataFrame\n",
      "Columns: [year, month, day, date, aam, dt, phase, amp]\n",
      "Index: []\n",
      "Empty DataFrame\n",
      "Columns: [year, month, day, date, aam, dt, phase, amp]\n",
      "Index: []\n",
      "            year  month  day       date   aam    dt  phase  amp\n",
      "date                                                           \n",
      "1979-09-01  1979      9    1 1979-09-01 -0.61 -0.13    2.5  0.6\n",
      "1979-09-03  1979      9    3 1979-09-03 -0.56  0.22    2.5  0.6\n",
      "1979-09-06  1979      9    6 1979-09-06 -0.26  0.50    3.5  0.6\n",
      "1979-09-09  1979      9    9 1979-09-09  0.10  0.35    4.5  0.4\n",
      "1979-09-10  1979      9   10 1979-09-10  0.07 -0.74    0.5  0.7\n",
      "1979-09-13  1979      9   13 1979-09-13 -0.01  0.58    4.5  0.6\n",
      "1979-09-24  1979      9   24 1979-09-24  0.01 -0.77    0.5  0.8\n",
      "1979-09-30  1979      9   30 1979-09-30  0.19  0.18    5.5  0.3\n",
      "1980-09-01  1980      9    1 1980-09-01  0.80 -0.21    6.5  0.8\n",
      "1980-09-02  1980      9    2 1980-09-02  0.79 -0.41    7.5  0.9\n",
      "1980-09-03  1980      9    3 1980-09-03  0.72  0.14    6.5  0.7\n",
      "1980-09-22  1980      9   22 1980-09-22  0.53  0.42    5.5  0.7\n",
      "1980-09-24  1980      9   24 1980-09-24  0.60 -0.07    6.5  0.6\n",
      "1980-09-25  1980      9   25 1980-09-25  0.61  0.43    5.5  0.7\n",
      "1980-09-27  1980      9   27 1980-09-27  0.72  0.49    5.5  0.9\n",
      "1981-09-30  1981      9   30 1981-09-30  0.81 -0.30    6.5  0.9\n",
      "1983-09-01  1983      9    1 1983-09-01  0.19 -0.52    0.5  0.6\n",
      "1983-09-03  1983      9    3 1983-09-03  0.07 -0.36    0.5  0.4\n",
      "1983-09-04  1983      9    4 1983-09-04  0.07 -0.15    7.5  0.2\n",
      "1983-09-05  1983      9    5 1983-09-05  0.00 -0.78    0.5  0.8\n",
      "1983-09-07  1983      9    7 1983-09-07 -0.25 -0.78    0.5  0.8\n",
      "1983-09-08  1983      9    8 1983-09-08 -0.31 -0.23    1.5  0.4\n",
      "1983-09-12  1983      9   12 1983-09-12  0.01  0.79    4.5  0.8\n",
      "1983-09-15  1983      9   15 1983-09-15  0.24 -0.79    0.5  0.8\n",
      "1983-09-19  1983      9   19 1983-09-19 -0.42 -0.13    2.5  0.4\n",
      "1984-09-01  1984      9    1 1984-09-01 -0.17  0.86    4.5  0.9\n",
      "1984-09-02  1984      9    2 1984-09-02 -0.13 -0.42    0.5  0.4\n",
      "1984-09-03  1984      9    3 1984-09-03 -0.26 -0.89    0.5  0.9\n",
      "1984-09-04  1984      9    4 1984-09-04 -0.33 -0.36    1.5  0.5\n",
      "1984-09-08  1984      9    8 1984-09-08 -0.56 -0.46    1.5  0.7\n",
      "...          ...    ...  ...        ...   ...   ...    ...  ...\n",
      "2013-09-01  2013      9    1 2013-09-01 -0.47 -0.24    1.5  0.5\n",
      "2013-09-02  2013      9    2 2013-09-02 -0.44 -0.04    2.5  0.4\n",
      "2013-09-03  2013      9    3 2013-09-03 -0.48  0.09    2.5  0.5\n",
      "2013-09-05  2013      9    5 2013-09-05 -0.26  0.85    4.5  0.9\n",
      "2013-09-06  2013      9    6 2013-09-06 -0.18  0.82    4.5  0.8\n",
      "2013-09-07  2013      9    7 2013-09-07 -0.06  0.71    4.5  0.7\n",
      "2013-09-08  2013      9    8 2013-09-08 -0.02 -0.01    1.5  0.0\n",
      "2013-09-09  2013      9    9 2013-09-09 -0.05 -0.19    0.5  0.2\n",
      "2013-09-11  2013      9   11 2013-09-11 -0.17 -0.73    0.5  0.7\n",
      "2013-09-12  2013      9   12 2013-09-12 -0.23 -0.25    1.5  0.3\n",
      "2013-09-13  2013      9   13 2013-09-13 -0.23  0.24    3.5  0.3\n",
      "2013-09-16  2013      9   16 2013-09-16  0.09  0.03    6.5  0.1\n",
      "2013-09-17  2013      9   17 2013-09-17  0.08 -0.10    7.5  0.1\n",
      "2013-09-18  2013      9   18 2013-09-18  0.08  0.47    4.5  0.5\n",
      "2013-09-19  2013      9   19 2013-09-19  0.18  0.52    4.5  0.5\n",
      "2013-09-22  2013      9   22 2013-09-22 -0.13  0.53    4.5  0.5\n",
      "2013-09-24  2013      9   24 2013-09-24  0.07  0.53    4.5  0.5\n",
      "2013-09-25  2013      9   25 2013-09-25  0.13  0.36    4.5  0.4\n",
      "2014-09-02  2014      9    2 2014-09-02 -0.66  0.18    2.5  0.7\n",
      "2014-09-17  2014      9   17 2014-09-17 -0.26 -0.04    2.5  0.3\n",
      "2014-09-18  2014      9   18 2014-09-18 -0.25 -0.58    1.5  0.6\n",
      "2014-09-20  2014      9   20 2014-09-20 -0.56 -0.63    1.5  0.8\n",
      "2014-09-21  2014      9   21 2014-09-21 -0.58 -0.16    2.5  0.6\n",
      "2016-09-07  2016      9    7 2016-09-07 -0.29 -0.26    1.5  0.4\n",
      "2016-09-11  2016      9   11 2016-09-11 -0.80 -0.21    2.5  0.8\n",
      "2016-09-14  2016      9   14 2016-09-14 -0.94 -0.13    2.5  0.9\n",
      "2016-09-24  2016      9   24 2016-09-24 -0.13  0.75    4.5  0.8\n",
      "2016-09-27  2016      9   27 2016-09-27 -0.01 -0.13    0.5  0.1\n",
      "2016-09-28  2016      9   28 2016-09-28 -0.03  0.59    4.5  0.6\n",
      "2016-09-30  2016      9   30 2016-09-30  0.22  0.68    4.5  0.7\n",
      "\n",
      "[277 rows x 8 columns]\n",
      "            year  month  day       date   aam    dt  phase  amp\n",
      "date                                                           \n",
      "1979-10-01  1979     10    1 1979-10-01  0.19  0.11    5.5  0.2\n",
      "1979-10-02  1979     10    2 1979-10-02  0.24  0.79    4.5  0.8\n",
      "1979-10-04  1979     10    4 1979-10-04  0.47  0.21    5.5  0.5\n",
      "1979-10-05  1979     10    5 1979-10-05  0.45  0.05    6.5  0.5\n",
      "1979-10-21  1979     10   21 1979-10-21  0.32 -0.80    0.5  0.9\n",
      "1980-10-15  1980     10   15 1980-10-15  0.84 -0.10    6.5  0.8\n",
      "1980-10-16  1980     10   16 1980-10-16  0.86 -0.21    6.5  0.9\n",
      "1980-10-17  1980     10   17 1980-10-17  0.79 -0.30    6.5  0.8\n",
      "1980-10-18  1980     10   18 1980-10-18  0.79 -0.12    6.5  0.8\n",
      "1981-10-15  1981     10   15 1981-10-15 -0.19 -0.42    1.5  0.5\n",
      "1981-10-17  1981     10   17 1981-10-17 -0.13 -0.03    2.5  0.1\n",
      "1982-10-19  1982     10   19 1982-10-19  0.31 -0.18    7.5  0.4\n",
      "1983-10-04  1983     10    4 1983-10-04 -0.48  0.28    3.5  0.6\n",
      "1983-10-06  1983     10    6 1983-10-06 -0.39  0.12    2.5  0.4\n",
      "1983-10-08  1983     10    8 1983-10-08 -0.49 -0.33    1.5  0.6\n",
      "1983-10-10  1983     10   10 1983-10-10 -0.49 -0.09    2.5  0.5\n",
      "1983-10-11  1983     10   11 1983-10-11 -0.51 -0.01    2.5  0.5\n",
      "1983-10-13  1983     10   13 1983-10-13 -0.42  0.40    3.5  0.6\n",
      "1983-10-16  1983     10   16 1983-10-16 -0.30  0.43    3.5  0.5\n",
      "1983-10-17  1983     10   17 1983-10-17 -0.32 -0.47    1.5  0.6\n",
      "1984-10-02  1984     10    2 1984-10-02  0.05 -0.52    0.5  0.5\n",
      "1984-10-13  1984     10   13 1984-10-13 -0.55 -0.16    2.5  0.6\n",
      "1984-10-16  1984     10   16 1984-10-16 -0.73 -0.06    2.5  0.7\n",
      "1984-10-18  1984     10   18 1984-10-18 -0.73  0.19    2.5  0.8\n",
      "1984-10-20  1984     10   20 1984-10-20 -0.53  0.70    3.5  0.9\n",
      "1984-10-21  1984     10   21 1984-10-21 -0.51 -0.08    2.5  0.5\n",
      "1984-10-22  1984     10   22 1984-10-22 -0.53 -0.14    2.5  0.5\n",
      "1984-10-31  1984     10   31 1984-10-31 -0.54  0.02    2.5  0.5\n",
      "1985-10-03  1985     10    3 1985-10-03  0.50  0.69    5.5  0.9\n",
      "1985-10-15  1985     10   15 1985-10-15  0.75 -0.25    6.5  0.8\n",
      "...          ...    ...  ...        ...   ...   ...    ...  ...\n",
      "2013-10-05  2013     10    5 2013-10-05 -0.57  0.65    3.5  0.9\n",
      "2013-10-10  2013     10   10 2013-10-10 -0.50  0.21    3.5  0.5\n",
      "2013-10-12  2013     10   12 2013-10-12 -0.47 -0.46    1.5  0.7\n",
      "2013-10-14  2013     10   14 2013-10-14 -0.58 -0.49    1.5  0.8\n",
      "2013-10-15  2013     10   15 2013-10-15 -0.63 -0.24    2.5  0.7\n",
      "2013-10-25  2013     10   25 2013-10-25 -0.12  0.94    4.5  0.9\n",
      "2013-10-26  2013     10   26 2013-10-26 -0.10 -0.24    0.5  0.3\n",
      "2013-10-28  2013     10   28 2013-10-28  0.01  0.73    4.5  0.7\n",
      "2013-10-30  2013     10   30 2013-10-30  0.00 -0.89    0.5  0.9\n",
      "2014-10-08  2014     10    8 2014-10-08 -0.65  0.22    2.5  0.7\n",
      "2014-10-12  2014     10   12 2014-10-12 -0.65  0.67    3.5  0.9\n",
      "2014-10-13  2014     10   13 2014-10-13 -0.62  0.30    3.5  0.7\n",
      "2014-10-19  2014     10   19 2014-10-19 -0.61 -0.39    1.5  0.7\n",
      "2014-10-25  2014     10   25 2014-10-25 -0.57  0.35    3.5  0.7\n",
      "2014-10-27  2014     10   27 2014-10-27 -0.56 -0.21    2.5  0.6\n",
      "2014-10-28  2014     10   28 2014-10-28 -0.52  0.62    3.5  0.8\n",
      "2015-10-06  2015     10    6 2015-10-06  0.92  0.18    6.5  0.9\n",
      "2015-10-07  2015     10    7 2015-10-07  0.93 -0.15    6.5  0.9\n",
      "2016-10-02  2016     10    2 2016-10-02  0.22 -0.77    0.5  0.8\n",
      "2016-10-03  2016     10    3 2016-10-03  0.13 -0.56    0.5  0.6\n",
      "2016-10-04  2016     10    4 2016-10-04  0.08 -0.32    0.5  0.3\n",
      "2016-10-05  2016     10    5 2016-10-05  0.05  0.04    5.5  0.1\n",
      "2016-10-06  2016     10    6 2016-10-06  0.08  0.13    5.5  0.2\n",
      "2016-10-09  2016     10    9 2016-10-09  0.07  0.31    4.5  0.3\n",
      "2016-10-10  2016     10   10 2016-10-10  0.17  0.77    4.5  0.8\n",
      "2016-10-14  2016     10   14 2016-10-14  0.62  0.27    5.5  0.7\n",
      "2016-10-17  2016     10   17 2016-10-17  0.56 -0.75    7.5  0.9\n",
      "2016-10-19  2016     10   19 2016-10-19  0.39 -0.47    7.5  0.6\n",
      "2016-10-20  2016     10   20 2016-10-20  0.35  0.27    5.5  0.4\n",
      "2016-10-26  2016     10   26 2016-10-26 -0.08 -0.72    0.5  0.7\n",
      "\n",
      "[210 rows x 8 columns]\n",
      "            year  month  day       date   aam    dt  phase  amp\n",
      "date                                                           \n",
      "1979-11-19  1979     11   19 1979-11-19 -0.58 -0.06    2.5  0.6\n",
      "1981-11-05  1981     11    5 1981-11-05 -0.70  0.19    2.5  0.7\n",
      "1982-11-01  1982     11    1 1982-11-01 -0.22 -0.34    1.5  0.4\n",
      "1982-11-02  1982     11    2 1982-11-02 -0.24  0.45    3.5  0.5\n",
      "1983-11-19  1983     11   19 1983-11-19  0.39  0.27    5.5  0.5\n",
      "1984-11-09  1984     11    9 1984-11-09 -0.43 -0.77    1.5  0.9\n",
      "1985-11-13  1985     11   13 1985-11-13  0.22  0.01    6.5  0.2\n",
      "1985-11-14  1985     11   14 1985-11-14  0.26  0.49    5.5  0.6\n",
      "1986-11-24  1986     11   24 1986-11-24 -0.21  0.56    4.5  0.6\n",
      "1988-11-03  1988     11    3 1988-11-03 -0.37  0.53    3.5  0.6\n",
      "1988-11-04  1988     11    4 1988-11-04 -0.37  0.13    2.5  0.4\n",
      "1988-11-09  1988     11    9 1988-11-09 -0.44  0.12    2.5  0.5\n",
      "1988-11-11  1988     11   11 1988-11-11 -0.15  0.68    4.5  0.7\n",
      "1988-11-12  1988     11   12 1988-11-12 -0.16 -0.15    1.5  0.2\n",
      "1988-11-15  1988     11   15 1988-11-15 -0.26 -0.15    1.5  0.3\n",
      "1988-11-16  1988     11   16 1988-11-16 -0.24  0.44    3.5  0.5\n",
      "1988-11-19  1988     11   19 1988-11-19  0.04 -0.48    0.5  0.5\n",
      "1988-11-25  1988     11   25 1988-11-25  0.21 -0.29    7.5  0.4\n",
      "1988-11-26  1988     11   26 1988-11-26  0.13 -0.64    0.5  0.7\n",
      "1989-11-05  1989     11    5 1989-11-05  0.25  0.54    5.5  0.6\n",
      "1989-11-08  1989     11    8 1989-11-08  0.47  0.71    5.5  0.9\n",
      "1991-11-11  1991     11   11 1991-11-11 -0.25 -0.29    1.5  0.4\n",
      "1991-11-19  1991     11   19 1991-11-19 -0.08 -0.51    0.5  0.5\n",
      "1991-11-29  1991     11   29 1991-11-29  0.82  0.21    6.5  0.8\n",
      "1992-11-10  1992     11   10 1992-11-10 -0.40  0.27    3.5  0.5\n",
      "1992-11-24  1992     11   24 1992-11-24  0.01 -0.63    0.5  0.6\n",
      "1993-11-05  1993     11    5 1993-11-05 -0.12 -0.48    0.5  0.5\n",
      "1993-11-13  1993     11   13 1993-11-13  0.17 -0.81    0.5  0.8\n",
      "1993-11-14  1993     11   14 1993-11-14  0.11 -0.36    0.5  0.4\n",
      "1993-11-16  1993     11   16 1993-11-16  0.00  0.14    4.5  0.1\n",
      "...          ...    ...  ...        ...   ...   ...    ...  ...\n",
      "2001-11-15  2001     11   15 2001-11-15  0.21 -0.21    7.5  0.3\n",
      "2001-11-25  2001     11   25 2001-11-25  0.43 -0.39    7.5  0.6\n",
      "2001-11-26  2001     11   26 2001-11-26  0.38 -0.50    7.5  0.6\n",
      "2001-11-28  2001     11   28 2001-11-28  0.13 -0.65    0.5  0.7\n",
      "2001-11-29  2001     11   29 2001-11-29  0.14  0.46    4.5  0.5\n",
      "2003-11-23  2003     11   23 2003-11-23 -0.41 -0.81    1.5  0.9\n",
      "2003-11-26  2003     11   26 2003-11-26 -0.33 -0.31    1.5  0.5\n",
      "2004-11-10  2004     11   10 2004-11-10  0.69  0.54    5.5  0.9\n",
      "2004-11-20  2004     11   20 2004-11-20  0.27  0.31    5.5  0.4\n",
      "2004-11-21  2004     11   21 2004-11-21  0.32  0.50    5.5  0.6\n",
      "2004-11-23  2004     11   23 2004-11-23  0.43  0.34    5.5  0.5\n",
      "2004-11-27  2004     11   27 2004-11-27  0.49 -0.24    7.5  0.5\n",
      "2005-11-12  2005     11   12 2005-11-12 -0.75 -0.12    2.5  0.8\n",
      "2005-11-15  2005     11   15 2005-11-15 -0.53  0.70    3.5  0.9\n",
      "2005-11-28  2005     11   28 2005-11-28 -0.77 -0.48    1.5  0.9\n",
      "2006-11-06  2006     11    6 2006-11-06 -0.72 -0.18    2.5  0.7\n",
      "2006-11-10  2006     11   10 2006-11-10 -0.45  0.37    3.5  0.6\n",
      "2006-11-14  2006     11   14 2006-11-14 -0.67 -0.22    2.5  0.7\n",
      "2010-11-22  2010     11   22 2010-11-22 -0.17 -0.44    0.5  0.5\n",
      "2010-11-24  2010     11   24 2010-11-24 -0.34 -0.26    1.5  0.4\n",
      "2010-11-29  2010     11   29 2010-11-29 -0.40 -0.80    1.5  0.9\n",
      "2010-11-30  2010     11   30 2010-11-30 -0.44  0.06    2.5  0.4\n",
      "2012-11-03  2012     11    3 2012-11-03 -0.40  0.63    3.5  0.7\n",
      "2012-11-04  2012     11    4 2012-11-04 -0.37 -0.41    1.5  0.5\n",
      "2012-11-10  2012     11   10 2012-11-10 -0.90 -0.31    2.5  0.9\n",
      "2014-11-22  2014     11   22 2014-11-22 -0.27  0.91    4.5  0.9\n",
      "2014-11-23  2014     11   23 2014-11-23 -0.26 -0.45    1.5  0.5\n",
      "2014-11-24  2014     11   24 2014-11-24 -0.36 -0.78    1.5  0.9\n",
      "2015-11-05  2015     11    5 2015-11-05  0.87 -0.02    6.5  0.9\n",
      "2016-11-02  2016     11    2 2016-11-02  0.42  0.84    5.5  0.9\n",
      "\n",
      "[81 rows x 8 columns]\n",
      "Empty DataFrame\n",
      "Columns: [year, month, day, date, aam, dt, phase, amp]\n",
      "Index: []\n"
     ]
    }
   ],
   "source": [
    "months = np.arange(1,13,1)\n",
    "phases = [0.5,1.5,2.5,3.5,4.5,5.5,6.5,7.5]\n",
    "expected_probs = [0.124779673,0.249723238,0.249723238,0.290153223,0.747498533,0.951075167,0.985081364,0.959273693,0.903048231,0.624189335,0.356445832,0.159852648,0.097388278]\n",
    "for i,month in enumerate(months):\n",
    "    query = 'mo == %s' % (month)\n",
    "    sev_hail_days = sevhail_df.query(query)\n",
    "    query = 'month == %s' % (month)\n",
    "    gwo_days = gwo_neu_days_df.query(query)\n",
    "    print (gwo_days.loc[gwo_days['date'].isin(sev_hail_days['date'])])\n",
    "    #print sev_hail_days.loc[sev_hail_days['datei'].isin(gwo_days['date'])].count()\n",
    "    #print len (gwo_days)\n",
    "    #print month,phase,scipy.stats.binom_test(len(gwo_days.loc[gwo_days['date'].isin(sev_hail_days['date'])]), len(gwo_days), expected_probs[i], alternative='two-sided')"
   ]
  },
  {
   "cell_type": "markdown",
   "metadata": {},
   "source": [
    "### Join percentile and GWO > 1 data"
   ]
  },
  {
   "cell_type": "code",
   "execution_count": 7,
   "metadata": {
    "collapsed": true
   },
   "outputs": [],
   "source": [
    "combo = gwo1days_df.join(sevhail_counts_df)\n",
    "ninetyth_hail_df=combo[combo.mag>=val_of_90]\n",
    "ninety5th_hail_df=combo[combo.mag>=val_of_95]\n",
    "ninety9th_hail_df=combo[combo.mag>=val_of_99]"
   ]
  },
  {
   "cell_type": "markdown",
   "metadata": {},
   "source": [
    "### Create 2-D Historgrams"
   ]
  },
  {
   "cell_type": "code",
   "execution_count": 8,
   "metadata": {
    "collapsed": true
   },
   "outputs": [],
   "source": [
    "sev_hist,xedges,yedges = np.histogram2d(sev_hail_df.dt,sev_hail_df.aam,bins=40,range=[[-4,4],[-4,4]])\n",
    "sig_hist,xedges,yedges = np.histogram2d(sig_hail_df.dt,sig_hail_df.aam,bins=40,range=[[-4,4],[-4,4]])\n",
    "giant_hist,xedges,yedges = np.histogram2d(giant_hail_df.dt,giant_hail_df.aam,bins=40,range=[[-4,4],[-4,4]])\n",
    "sev90th_hist,xedges,yedges = np.histogram2d(ninetyth_hail_df.dt,ninetyth_hail_df.aam,bins=40,range=[[-4,4],[-4,4]])\n",
    "sev95th_hist,xedges,yedges = np.histogram2d(ninety5th_hail_df.dt,ninety5th_hail_df.aam,bins=40,range=[[-4,4],[-4,4]])\n",
    "sev99th_hist,xedges,yedges = np.histogram2d(ninety9th_hail_df.dt,ninety9th_hail_df.aam,bins=40,range=[[-4,4],[-4,4]])\n",
    "gwo1_hist,xedges,yedges = np.histogram2d(gwo1days_df.dt,gwo1days_df.aam,bins=40,range=[[-4,4],[-4,4]])"
   ]
  },
  {
   "cell_type": "markdown",
   "metadata": {},
   "source": [
    "### Calculate phase space probabilities "
   ]
  },
  {
   "cell_type": "code",
   "execution_count": 9,
   "metadata": {
    "collapsed": true
   },
   "outputs": [],
   "source": [
    "sev90_prob = np.divide(sev90th_hist,np.sum(sev90th_hist))\n",
    "sev95_prob = np.divide(sev95th_hist,np.sum(sev95th_hist))\n",
    "sev99_prob = np.divide(sev99th_hist,np.sum(sev99th_hist))\n",
    "sev_prob = np.divide(sev_hist,np.sum(sev_hist))\n",
    "sig_prob = np.divide(sig_hist,np.sum(sig_hist))\n",
    "giant_prob = np.divide(giant_hist,np.sum(giant_hist))\n",
    "gwo1_prob = np.divide(gwo1_hist,np.sum(gwo1_hist))"
   ]
  },
  {
   "cell_type": "markdown",
   "metadata": {},
   "source": [
    "### Calculate phase space anomalies & smooth"
   ]
  },
  {
   "cell_type": "code",
   "execution_count": null,
   "metadata": {
    "collapsed": true
   },
   "outputs": [],
   "source": [
    "sev_anom = sev_prob - gwo1_prob\n",
    "sig_anom = sig_prob - gwo1_prob\n",
    "giant_anom = giant_prob - gwo1_prob\n",
    "sev90_anom = sev90_prob - gwo1_prob\n",
    "sev95_anom = sev95_prob - gwo1_prob\n",
    "sev99_anom = sev99_prob - gwo1_prob\n",
    "#Guassian smooth probs\n",
    "sigma = 1.5\n",
    "sev_anom = scipy.ndimage.filters.gaussian_filter(sev_anom,sigma,order=0)\n",
    "sig_anom = scipy.ndimage.filters.gaussian_filter(sig_anom,sigma,order=0)\n",
    "giant_anom = scipy.ndimage.filters.gaussian_filter(giant_anom,sigma,order=0)\n",
    "s90_anom = scipy.ndimage.filters.gaussian_filter(sev90_anom,sigma,order=0)\n",
    "s95_anom = scipy.ndimage.filters.gaussian_filter(sev95_anom,sigma,order=0)\n",
    "s99_anom = scipy.ndimage.filters.gaussian_filter(sev99_anom,sigma,order=0)\n",
    "sev_diff = scipy.stats.zscore(sev_anom,axis=None,ddof=1)\n",
    "sig_diff = scipy.stats.zscore(sig_anom,axis=None,ddof=1)\n",
    "giant_diff = scipy.stats.zscore(giant_anom,axis=None,ddof=1)\n",
    "s90_diff = scipy.stats.zscore(s90_anom,axis=None,ddof=1)\n",
    "s95_diff = scipy.stats.zscore(s95_anom,axis=None,ddof=1)\n",
    "s99_diff = scipy.stats.zscore(s99_anom,axis=None,ddof=1)"
   ]
  },
  {
   "cell_type": "markdown",
   "metadata": {},
   "source": [
    "### Make Figure 1"
   ]
  },
  {
   "cell_type": "code",
   "execution_count": null,
   "metadata": {
    "scrolled": true
   },
   "outputs": [],
   "source": [
    "fig, axes = plt.subplots(nrows=1,ncols=4,figsize=(10,16),dpi=200)\n",
    "for ax in np.arange(0,4,1):\n",
    "    axes.flat[ax].plot([-4,0],[4,0],'black',ls='-',linewidth=0.5)\n",
    "    axes.flat[ax].plot([-4,0],[0,0],'black',ls='-',linewidth=0.5)\n",
    "    axes.flat[ax].plot([-4,0],[-4,0],'black',ls='-',linewidth=0.5)\n",
    "    axes.flat[ax].plot([0,0],[-4,0],'black',ls='-',linewidth=0.5)\n",
    "    axes.flat[ax].plot([4,0],[-4,0],'black',ls='-',linewidth=0.5)\n",
    "    axes.flat[ax].plot([4,0],[0,0],'black',ls='-',linewidth=0.5)\n",
    "    axes.flat[ax].plot([4,0],[4,0],'black',ls='-',linewidth=0.5)\n",
    "    axes.flat[ax].plot([0,0],[4,0],'black',ls='-',linewidth=0.5)\n",
    "    axes.flat[ax].annotate('8', xy=(-3.8, 2),  xycoords='data',color='b', fontsize=10)\n",
    "    axes.flat[ax].annotate('1', xy=(-3.8, -2),  xycoords='data',color='b', fontsize=10)\n",
    "    axes.flat[ax].annotate('2', xy=(-2,-3.8),  xycoords='data',color='b', fontsize=10)\n",
    "    axes.flat[ax].annotate('3', xy=(2,-3.8),  xycoords='data',color='b', fontsize=10)\n",
    "    axes.flat[ax].annotate('4', xy=(3.5,-2),  xycoords='data',color='b', fontsize=10)\n",
    "    axes.flat[ax].annotate('5', xy=(3.5,2),  xycoords='data',color='b', fontsize=10)\n",
    "    axes.flat[ax].annotate('6', xy=(2,3.4),  xycoords='data',color='b', fontsize=10)\n",
    "    axes.flat[ax].annotate('7', xy=(-2,3.4),  xycoords='data',color='b', fontsize=10)\n",
    "    wheel_of_death=plt.Circle((0,0),1,color='k',fill=False, zorder =4, alpha=.6)\n",
    "    axes.flat[ax].add_artist(wheel_of_death)\n",
    "    wheel_of_death=plt.Circle((0,0),1,color='white',fill=True, alpha=1, zorder=3)\n",
    "    axes.flat[ax].add_artist(wheel_of_death)\n",
    "\n",
    "temper_anom = ['#3c009c','#3609A5','#3013AF','#2A1CB9','#2426C3','#1E30CD','#1839D7','#1243E1','#0C4CEB','#0656F5','#0060FF','#0068FF','#0071FF','#0079FF','#0082FF','#008BFF','#0093FF','#009CFF','#00A4FF','#00ADFF','#00B6FF','#0CBDFF','#18C4FF','#24CBFF','#30D3FF','#3CDAFF','#48E1FF','#54E9FF','#60F0FF','#6CF7FF','#79FFFF','#86FFFF','#93FFFF','#A1FFFF','#AEFFFF','#BCFFFF','#C9FFFF','#D6FFFF','#E4FFFF','#F1FFFF','#FFFFFF','#FFFFFF','#FFFFFF','#FFFEE5','#FFFDCC','#FFFCB2','#FFFB99','#FFFB7F','#FFFA66','#FFF94C','#FFF833','#FFF719','#FFF700','#FFEB00','#FFDF00','#FFD300','#FFC700','#FFBB00','#FFAF00','#FFA300','#FF9700','#FF8B00','#FF7F00','#FE7200','#FE6500','#FE5800','#FE4C00','#FE3F00','#FE3200','#FE2600','#FE1900','#FE0C00','#FE0000','#F50000','#EC0000','#E30000','#DA0000','#D20000','#C90000','#C00000','#B70000','#AE0000','#A60000']\n",
    "cmap = matplotlib.colors.ListedColormap(temper_anom)\n",
    "extent = [xedges[0], xedges[-1], yedges[0], yedges[-1] ]\n",
    "#track=axes.flat[0].imshow(sev_anom.T,extent=extent,interpolation='nearest',origin='lower',cmap=cmap,vmin=-0.0009,vmax=0.0009)\n",
    "#axes.flat[1].imshow(sig_anom.T,extent=extent,interpolation='nearest',origin='lower',cmap=cmap,vmin=-0.0009,vmax=0.0009)\n",
    "#axes.flat[2].imshow(giant_anom.T,extent=extent,interpolation='nearest',origin='lower',cmap=cmap,vmin=-0.0009,vmax=0.0009)\n",
    "#axes.flat[3].imshow(s90_anom.T,extent=extent,interpolation='nearest',origin='lower',cmap=cmap,vmin=-0.0009,vmax=0.0009)\n",
    "#axes.flat[4].imshow(s95_anom.T,extent=extent,interpolation='nearest',origin='lower',cmap=cmap,vmin=-0.0009,vmax=0.0009)\n",
    "#axes.flat[5].imshow(s99_anom.T,extent=extent,interpolation='nearest',origin='lower',cmap=cmap,vmin=-0.0009,vmax=0.0009)\n",
    "track=axes.flat[0].imshow(sev_anom.T,extent=extent,interpolation='nearest',origin='lower',cmap=cmap,norm=colors.SymLogNorm(linthresh=0.00001, linscale=0.00001,vmin=-.01, vmax=.01))\n",
    "levs = [1.7,900]\n",
    "levs1 = [-900,-1.7]\n",
    "pos_col='black'\n",
    "neg_col='black'\n",
    "axes.flat[0].contour(sev_diff.T,levs,cmap=None,extent=extent,colors=pos_col)\n",
    "axes.flat[0].contour(sev_diff.T,levs1,cmap=None,extent=extent,colors=neg_col)\n",
    "axes.flat[1].imshow(sig_anom.T,extent=extent,interpolation='nearest',origin='lower',cmap=cmap,norm=colors.SymLogNorm(linthresh=0.00001, linscale=0.00001,vmin=-.01, vmax=.01))\n",
    "axes.flat[1].contour(sig_diff.T,levs,cmap=None,extent=extent,colors=pos_col)\n",
    "axes.flat[1].contour(sig_diff.T,levs1,cmap=None,extent=extent,colors=neg_col)\n",
    "axes.flat[2].imshow(giant_anom.T,extent=extent,interpolation='nearest',origin='lower',cmap=cmap,norm=colors.SymLogNorm(linthresh=0.00001, linscale=0.00001,vmin=-.01, vmax=.01))\n",
    "axes.flat[2].contour(giant_diff.T,levs,cmap=None,extent=extent,colors=pos_col)\n",
    "axes.flat[2].contour(giant_diff.T,levs1,cmap=None,extent=extent,colors=neg_col)\n",
    "axes.flat[3].imshow(s90_anom.T,extent=extent,interpolation='nearest',origin='lower',cmap=cmap,norm=colors.SymLogNorm(linthresh=0.00001, linscale=0.00001,vmin=-.01, vmax=.01))\n",
    "axes.flat[3].contour(s90_diff.T,levs,cmap=None,extent=extent,colors=pos_col)\n",
    "axes.flat[3].contour(s90_diff.T,levs1,cmap=None,extent=extent,colors=neg_col)\n",
    "# axes.flat[4].imshow(s95_anom.T,extent=extent,interpolation='nearest',origin='lower',cmap=cmap,norm=colors.SymLogNorm(linthresh=0.00001, linscale=0.00001,vmin=-.01, vmax=.01))\n",
    "# axes.flat[4].contour(s95_diff.T,levs,cmap=None,extent=extent,colors=pos_col)\n",
    "# axes.flat[4].contour(s95_diff.T,levs1,cmap=None,extent=extent,colors=neg_col)\n",
    "# axes.flat[5].imshow(s99_anom.T,extent=extent,interpolation='nearest',origin='lower',cmap=cmap,norm=colors.SymLogNorm(linthresh=0.00001, linscale=0.00001,vmin=-.01, vmax=.01))\n",
    "# axes.flat[5].contour(s99_diff.T,levs,cmap=None,extent=extent,colors=pos_col)\n",
    "# axes.flat[5].contour(s99_diff.T,levs1,cmap=None,extent=extent,colors=neg_col)\n",
    "cbar = fig.colorbar(track,ax=axes.ravel().tolist(),ticks=[-.01,-.001,-0.0001,0,0.0001,0.001,0.01], orientation='horizontal', pad=.03,aspect=50, shrink=.9, extend='both')\n",
    "cbar.set_label('Hail Day Probability Anomaly')\n",
    "axes.flat[0].annotate('e)',(.05,1.05), xycoords='axes fraction', ha='left', fontsize=12)\n",
    "axes.flat[0].annotate('n='+str(sev_hail_df['date'].count()),(.95,1.05), xycoords='axes fraction', ha='right', fontsize=12,fontstyle='italic')\n",
    "axes.flat[1].annotate('f)',(.05,1.05), xycoords='axes fraction', ha='left', fontsize=12)\n",
    "axes.flat[1].annotate('n='+str(sig_hail_df['date'].count()),(.95,1.05), xycoords='axes fraction', ha='right', fontsize=12,fontstyle='italic')\n",
    "axes.flat[2].annotate('g)',(.05,1.05), xycoords='axes fraction', ha='left', fontsize=12)\n",
    "axes.flat[2].annotate('n='+str(giant_hail_df['date'].count()),(.95,1.05), xycoords='axes fraction', ha='right', fontsize=12,fontstyle='italic')\n",
    "axes.flat[3].annotate('h)',(.05,1.05), xycoords='axes fraction', ha='left', fontsize=12)\n",
    "axes.flat[3].annotate('n='+str(ninetyth_hail_df.mag.count()),(.95,1.05), xycoords='axes fraction', ha='right', fontsize=12,fontstyle='italic')\n",
    "# axes.flat[4].annotate('e)',(.05,1.05), xycoords='axes fraction', ha='left', fontsize=12)\n",
    "# axes.flat[4].annotate('n='+str(ninety5th_hail_df.mag.count()),(.95,1.05), xycoords='axes fraction', ha='right', fontsize=12,fontstyle='italic')\n",
    "# axes.flat[5].annotate('f)',(.05,1.05), xycoords='axes fraction', ha='left', fontsize=12)\n",
    "# axes.flat[5].annotate('n='+str(ninety9th_hail_df.mag.count()),(.95,1.05), xycoords='axes fraction', ha='right', fontsize=12,fontstyle='italic')\n",
    "\n",
    "#plt.savefig('hailbyGWOphase.eps',format='eps')\n",
    "#plt.savefig('hailbyGWOphase.png',format='png')\n",
    "#plt.savefig('hailbyGWOphase.pdf',format='pdf')\n",
    "plt.savefig('march_hist.png')\n",
    "#Image('may_hist.png')"
   ]
  },
  {
   "cell_type": "markdown",
   "metadata": {},
   "source": [
    "###### Figure 2. 1979-2016 Probability anomalies for a) SEV hail, b) SIG hail, c) GIANT hail, d) 90th percentile, e) 95th percentile, and f) 99th percentile hail frequency days. Blue numbers indicate the respective GWO phase. "
   ]
  }
 ],
 "metadata": {
  "kernelspec": {
   "display_name": "Python [conda env:py36]",
   "language": "python",
   "name": "conda-env-py36-py"
  },
  "language_info": {
   "codemirror_mode": {
    "name": "ipython",
    "version": 3
   },
   "file_extension": ".py",
   "mimetype": "text/x-python",
   "name": "python",
   "nbconvert_exporter": "python",
   "pygments_lexer": "ipython3",
   "version": "3.6.3"
  }
 },
 "nbformat": 4,
 "nbformat_minor": 2
}
