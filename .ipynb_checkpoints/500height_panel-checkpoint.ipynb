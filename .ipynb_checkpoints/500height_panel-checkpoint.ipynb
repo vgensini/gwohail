{
 "cells": [
  {
   "cell_type": "markdown",
   "metadata": {},
   "source": [
    "## GWO & Hail Environment Relationship\n",
    "##### Dr. Victor Gensini (Fall 2017)\n",
    "##### Department of Geographic and Atmospheric Sciences\n",
    "<img style=\"float:left;height:40px\"src=\"https://encrypted-tbn0.gstatic.com/images?q=tbn:ANd9GcQthtdrc2lZyEOC1iiwubFyvNfzJE7q7_GCTdlFF3peKckmi7cN\">"
   ]
  },
  {
   "cell_type": "code",
   "execution_count": 1,
   "metadata": {
    "collapsed": true
   },
   "outputs": [],
   "source": [
    "import datetime, os, calendar\n",
    "import numpy as np\n",
    "import pandas as pd\n",
    "from netCDF4 import date2num,date2index\n",
    "from netCDF4 import Dataset\n",
    "from IPython.display import Image\n",
    "from netCDF4 import Dataset\n",
    "import numpy as np\n",
    "import pandas as pd\n",
    "import matplotlib\n",
    "import matplotlib.pyplot as plt\n",
    "import scipy.ndimage\n",
    "from scipy import ndimage\n",
    "import scipy.stats\n",
    "import matplotlib.font_manager as font_manager\n",
    "from matplotlib import cm\n",
    "from matplotlib.path import Path\n",
    "import matplotlib.colors as colors\n",
    "from matplotlib.mlab import bivariate_normal\n",
    "from matplotlib.colors import LogNorm\n",
    "from mpl_toolkits.basemap import Basemap, maskoceans\n",
    "from scipy.stats.mstats import linregress\n",
    "from scipy import stats\n",
    "import shapefile\n",
    "import seaborn as sns"
   ]
  },
  {
   "cell_type": "markdown",
   "metadata": {},
   "source": [
    "### GWO data"
   ]
  },
  {
   "cell_type": "code",
   "execution_count": 2,
   "metadata": {
    "collapsed": true
   },
   "outputs": [],
   "source": [
    "nc1 = Dataset('narr_latlon.nc','r',format='NETCDF4_CLASSIC')\n",
    "lats = nc1.variables[\"lats\"][0][:][:]\n",
    "lons = nc1.variables[\"lons\"][0][:][:]\n",
    "nc1.close()\n",
    "phase_st_anoms = np.empty((0,277,349))\n",
    "probs_scp = np.empty((0,277,349))\n",
    "\n",
    "phase_td_anoms = np.empty((0,277,349))\n",
    "probs_td = np.empty((0,277,349))\n",
    "\n",
    "nc = Dataset('/home/data/bwd500hgtdewp/controls_1979_2016.nc','r',format='NETCDF4_CLASSIC')\n",
    "mean_scp_daily = np.load('/home/data/bwd500hgtdewp/narr_doy_hght500mb_1979_2016.npy')\n",
    "mean_td_daily = np.load('/home/data/bwd500hgtdewp/narr_doy_dewp2m_1979_2016.npy')"
   ]
  },
  {
   "cell_type": "code",
   "execution_count": 3,
   "metadata": {
    "collapsed": true
   },
   "outputs": [],
   "source": [
    "gwo_file = 'gwo.csv'\n",
    "gwo_df = pd.read_csv(gwo_file)\n",
    "formats = '%Y-%m-%d'\n",
    "gwo_df['date']=pd.to_datetime(gwo_df['date'], format=formats)\n",
    "gwo_df=gwo_df.set_index(pd.DatetimeIndex(gwo_df['date']))\n",
    "hail_file = '1955-2016_hail.csv'\n",
    "hail_df = pd.read_csv(hail_file)\n",
    "hail_df['datei']=pd.to_datetime(hail_df['date'], format=formats)\n",
    "hail_df=hail_df.set_index(pd.DatetimeIndex(hail_df['datei']))\n",
    "sevhail_df = hail_df[hail_df.mag>=1]\n",
    "sighail_df = hail_df[hail_df.mag>=2]\n",
    "gianthail_df = hail_df[hail_df.mag>=4]\n",
    "amp=1\n",
    "phases=[1.5,2.5,3.5,4.5,5.5,6.5,7.5,0.5]\n",
    "months=np.arange(1,13,1)\n",
    "months=[4]\n",
    "phasetxt=[1,2,3,4,5,6,7,8]\n",
    "phaseltr=['a)','b)','c)','d)','e)','f)','g)','h)']\n",
    "temper_anom = ['#3c009c','#3609A5','#3013AF','#2A1CB9','#2426C3','#1E30CD','#1839D7','#1243E1','#0C4CEB','#0656F5','#0060FF','#0068FF','#0071FF','#0079FF','#0082FF','#008BFF','#0093FF','#009CFF','#00A4FF','#00ADFF','#00B6FF','#0CBDFF','#18C4FF','#24CBFF','#30D3FF','#3CDAFF','#48E1FF','#54E9FF','#60F0FF','#6CF7FF','#79FFFF','#86FFFF','#93FFFF','#A1FFFF','#AEFFFF','#BCFFFF','#C9FFFF','#D6FFFF','#E4FFFF','#F1FFFF','#FFFFFF','#FFFFFF','#FFFFFF','#FFFEE5','#FFFDCC','#FFFCB2','#FFFB99','#FFFB7F','#FFFA66','#FFF94C','#FFF833','#FFF719','#FFF700','#FFEB00','#FFDF00','#FFD300','#FFC700','#FFBB00','#FFAF00','#FFA300','#FF9700','#FF8B00','#FF7F00','#FE7200','#FE6500','#FE5800','#FE4C00','#FE3F00','#FE3200','#FE2600','#FE1900','#FE0C00','#FE0000','#F50000','#EC0000','#E30000','#DA0000','#D20000','#C90000','#C00000','#B70000','#AE0000','#A60000']\n",
    "cmap = matplotlib.colors.ListedColormap(temper_anom)"
   ]
  },
  {
   "cell_type": "code",
   "execution_count": 4,
   "metadata": {
    "scrolled": false
   },
   "outputs": [
    {
     "name": "stderr",
     "output_type": "stream",
     "text": [
      "IOPub data rate exceeded.\n",
      "The notebook server will temporarily stop sending output\n",
      "to the client in order to avoid crashing it.\n",
      "To change this limit, set the config variable\n",
      "`--NotebookApp.iopub_data_rate_limit`.\n"
     ]
    }
   ],
   "source": [
    "fig, axes = plt.subplots(nrows=4,ncols=2,figsize=(10,18),dpi=300)\n",
    "# = Basemap  (projection='lcc',lon_0=-92.54199,lat_0=38.09401,llcrnrlat=20, urcrnrlat=55,llcrnrlon=-120,urcrnrlon=-60,resolution='l',area_thresh=1000)\n",
    "#,y = m(lons,lats)\n",
    "\n",
    "for ax in axes.flat:\n",
    "    m = Basemap  (projection='lcc',lon_0=-92.54199,lat_0=38.09401,llcrnrlat=20, urcrnrlat=55,llcrnrlon=-120,urcrnrlon=-60,resolution='l',area_thresh=1000,ax=ax)\n",
    "    x,y = m(lons,lats)\n",
    "    m.drawcoastlines(color='gray')\n",
    "    m.drawstates(color='gray')\n",
    "    m.drawcountries(color='gray')\n",
    "    parallels = np.arange(0.,90,10.)\n",
    "    m.drawparallels(parallels,labels=[1,0,0,0],fontsize=8,color='grey',linewidth=0.5)\n",
    "    meridians = np.arange(180.,360.,10.)\n",
    "    m.drawmeridians(meridians,labels=[0,0,0,2],fontsize=8,color='grey',linewidth=0.5)\n",
    "\n",
    "for month in months:\n",
    "    for i,phase in enumerate(phases):\n",
    "        query='amp>=%s & phase==%s & year>=1979 & year<=2016 & month==%s' % (amp,phase,month)\n",
    "        phase_amp_df = gwo_df.query(query)      \n",
    "        #query='hr>=13 & hr<=18'\n",
    "        #sig_hail_df=sighail_df.query(query)\n",
    "        sig_hail_df=sighail_df.loc[sighail_df['datei'].isin(phase_amp_df['date'])]\n",
    "        hail_lats = sig_hail_df['slat']\n",
    "        hail_lons = sig_hail_df['slon']\n",
    "        for dt in phase_amp_df['date']+datetime.timedelta(hours=21):\n",
    "            if calendar.isleap(dt.year)==True:\n",
    "                tt=dt.timetuple().tm_yday-2\n",
    "            else:\n",
    "                tt=dt.timetuple().tm_yday-1\n",
    "            day_mean_scp=mean_scp_daily[tt][:][:]\n",
    "            day_mean_dewp2m=mean_td_daily[tt][:][:]\n",
    "            #day_mean_scp_log=mean_scp_daily_log[tt][:][:]\n",
    "            #day_stdev_scp=stdev_scp_daily[tt][:][:]\n",
    "            #day_stdev_scp_log=stdev_scp_daily_log[tt][:][:] \n",
    "            idex = date2index(dt,nc['time'])\n",
    "            scp = nc.variables[\"hght500mb\"][idex][:][:]\n",
    "            td = nc.variables[\"dewp2m\"][idex][:][:]\n",
    "            #cin  = nc.variables[\"sbcin\"][idex][:][:]\n",
    "            #cin mask\n",
    "            #term5 = np.fabs(cin)\n",
    "            #term5[np.fabs(cin)>50]=0.\n",
    "            #term5[np.fabs(cin)<=50]=1.\n",
    "            #scp = scp * term5\n",
    "            #scp[scp<1]=0.\n",
    "            #scp[scp>=1]=1.\n",
    "            #anom = scp-day_mean_scp\n",
    "            #st_anom = anom/day_stdev_scp\n",
    "            phase_st_anoms = np.append(phase_st_anoms,[scp],axis=0)\n",
    "            probs_scp = np.append(probs_scp,[day_mean_scp],axis=0)\n",
    "            phase_td_anoms = np.append(phase_td_anoms,[td],axis=0)\n",
    "            probs_td = np.append(probs_td,[day_mean_dewp2m],axis=0)\n",
    "        mean_ph1 = np.mean(phase_st_anoms,axis=0)\n",
    "        mean_probs = np.mean(probs_scp,axis=0)\n",
    "        prob_anom = mean_ph1-mean_probs\n",
    "        mean_td = np.mean(phase_td_anoms,axis=0)\n",
    "        mean_td_probs = np.mean(probs_td,axis=0)\n",
    "        prob_td_anom = mean_td-mean_td_probs\n",
    "        #mean_ph1 = np.mean(phase_st_anoms,axis=0)\n",
    "        #Guassian smooth probs\n",
    "        phase_st_anoms = np.empty((0,277,349))\n",
    "        probs_scp = np.empty((0,277,349))\n",
    "        phase_td_anoms = np.empty((0,277,349))\n",
    "        probs_td = np.empty((0,277,349))\n",
    "        sigma = 1\n",
    "        mean_ph1 = scipy.ndimage.filters.gaussian_filter(prob_anom,sigma,order=0)\n",
    "        mean_ph2 = scipy.ndimage.filters.gaussian_filter(prob_td_anom,sigma,order=0)\n",
    "        \n",
    "        masked = maskoceans(lons,lats,mean_ph1)\n",
    "        masked1 = maskoceans(lons,lats,mean_ph2)\n",
    "\n",
    "        #plot = m.pcolormesh(x,y,masked,zorder=1, norm=colors.LogNorm(vmin=1, vmax=50),cmap=cm.magma)\n",
    "        track = axes.flat[i].pcolormesh(x,y,masked1,zorder=1,vmin=-4, vmax=4,cmap=cm.BrBG)\n",
    "        CL1=axes.flat[i].contour(x,y,masked,colors='black',levels=[np.arange(5,100,5)],linestyles='solid')\n",
    "        CL2=axes.flat[i].contour(x,y,masked,colors='grey',levels=[0],linestyles='solid')\n",
    "        CL3=axes.flat[i].contour(x,y,masked,colors='black',levels=[np.arange(-100,-5,5)],linestyles='dashed')\n",
    "        fmt='%.0f'\n",
    "        axes.flat[i].clabel(CL1, fontsize=11, inline=1, fmt=fmt)\n",
    "        axes.flat[i].clabel(CL2, fontsize=11, inline=1, fmt=fmt)\n",
    "        axes.flat[i].clabel(CL3, fontsize=11, inline=1, fmt=fmt)\n",
    "        \n",
    "        #colbar.set_label('1979-2016 Slope of STP Hours > 1',fontsize='medium',weight='bold')\n",
    "        #plt.savefig(str(month)+'_'+str(phasetxt[i])+'.png')\n",
    "cbar = fig.colorbar(track,ax=axes.ravel().tolist(),ticks=[-4,-3,-2,-1,0,1,2,3,4], orientation='horizontal', pad=.03,aspect=50, shrink=.9, extend='both')\n",
    "cbar.set_label('2m Dewpoint Anomaly ' +r'$^\\circ$F' )\n",
    "plt.savefig('Environments.png') "
   ]
  },
  {
   "cell_type": "code",
   "execution_count": null,
   "metadata": {
    "collapsed": true
   },
   "outputs": [],
   "source": []
  }
 ],
 "metadata": {
  "kernelspec": {
   "display_name": "Python [conda env:py36]",
   "language": "python",
   "name": "conda-env-py36-py"
  },
  "language_info": {
   "codemirror_mode": {
    "name": "ipython",
    "version": 3
   },
   "file_extension": ".py",
   "mimetype": "text/x-python",
   "name": "python",
   "nbconvert_exporter": "python",
   "pygments_lexer": "ipython3",
   "version": "3.6.3"
  }
 },
 "nbformat": 4,
 "nbformat_minor": 2
}
