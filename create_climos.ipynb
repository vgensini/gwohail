{
 "cells": [
  {
   "cell_type": "markdown",
   "metadata": {},
   "source": [
    "## GWO & Hail Environment Relationship\n",
    "##### Dr. Victor Gensini (Fall 2017)\n",
    "##### Department of Geographic and Atmospheric Sciences\n",
    "<img style=\"float:left;height:40px\"src=\"https://encrypted-tbn0.gstatic.com/images?q=tbn:ANd9GcQthtdrc2lZyEOC1iiwubFyvNfzJE7q7_GCTdlFF3peKckmi7cN\">"
   ]
  },
  {
   "cell_type": "code",
   "execution_count": 1,
   "metadata": {
    "collapsed": true
   },
   "outputs": [],
   "source": [
    "import Ngl, datetime, os, calendar\n",
    "import numpy as np\n",
    "import pandas as pd\n",
    "from netCDF4 import date2num,date2index\n",
    "from netCDF4 import Dataset\n",
    "from IPython.display import Image"
   ]
  },
  {
   "cell_type": "markdown",
   "metadata": {},
   "source": [
    "### GWO data"
   ]
  },
  {
   "cell_type": "code",
   "execution_count": 2,
   "metadata": {
    "collapsed": true
   },
   "outputs": [],
   "source": [
    "gwo_file = 'gwo.csv'\n",
    "gwo_df = pd.read_csv(gwo_file)\n",
    "formats = '%Y-%m-%d'\n",
    "gwo_df['date']=pd.to_datetime(gwo_df['date'], format=formats)\n",
    "gwo_df=gwo_df.set_index(pd.DatetimeIndex(gwo_df['date']))\n",
    "amp=1\n",
    "phase=1.5\n",
    "query='amp>=%s & phase==%s' % (amp,phase)\n",
    "phase_amp_df = gwo_df.query(query)"
   ]
  },
  {
   "cell_type": "markdown",
   "metadata": {},
   "source": [
    "### Read in one file to capture lat/lons"
   ]
  },
  {
   "cell_type": "code",
   "execution_count": 3,
   "metadata": {
    "collapsed": true
   },
   "outputs": [],
   "source": [
    "nc1 = Dataset('narr_latlon.nc','r',format='NETCDF4_CLASSIC')\n",
    "lats = nc1.variables[\"lats\"][0][:][:]\n",
    "lons = nc1.variables[\"lons\"][0][:][:]\n",
    "nc1.close()"
   ]
  },
  {
   "cell_type": "code",
   "execution_count": 4,
   "metadata": {
    "collapsed": true
   },
   "outputs": [],
   "source": [
    "scp_climo = np.empty((0,277,349))\n",
    "scp_final = np.empty((0,38,277,349))\n",
    "nc = Dataset('scp_cin_1979_2016.nc','r',format='NETCDF4_CLASSIC')"
   ]
  },
  {
   "cell_type": "code",
   "execution_count": 5,
   "metadata": {},
   "outputs": [
    {
     "name": "stdout",
     "output_type": "stream",
     "text": [
      "(365, 38, 277, 349)\n"
     ]
    }
   ],
   "source": [
    "###############################\n",
    "#Enter the start and end date:#\n",
    "######################################\n",
    "#start_input = '1979110100' #YYYYMMDDHH\n",
    "#end_input  =  '2016110100' #YYYYMMDDHH\n",
    "######################################\n",
    "months=['01','02','03','04','05','06','07','08','09','10','11','12']\n",
    "for month in months:\n",
    "    if month=='01' or month=='03' or month=='05' or month=='07' or month=='08' or month=='10' or month=='12':\n",
    "        emon = 31\n",
    "    elif month=='04' or month=='06' or month=='09' or month=='11':\n",
    "        emon = 30\n",
    "    if month=='02':\n",
    "        emon = 28\n",
    "    daycount=1\n",
    "    while daycount <= emon:\n",
    "        start_input = '1979'+month+'%02d'%daycount+'21'    #YYYYMMDDHH\n",
    "        end_input  =  '2016'+month+'%02d'%daycount+'21' #YYYYMMDDHH\n",
    "        begdate = datetime.datetime.strptime(start_input,\"%Y%m%d%H\")\n",
    "        enddate = datetime.datetime.strptime(end_input,\"%Y%m%d%H\")\n",
    "        dates = []\n",
    "        while begdate <= enddate:\n",
    "            if calendar.isleap(begdate.year) == True:   \n",
    "                dates.append(begdate)\n",
    "                begdate+=datetime.timedelta(days=1)\n",
    "            else:\n",
    "                dates.append(begdate)\n",
    "            begdate+=datetime.timedelta(days=365)\n",
    "        #do things here\n",
    "        #print dates\n",
    "        #print len(dates)\n",
    "        for i,dt in enumerate(dates):\n",
    "            idex = date2index(dt,nc['time'])\n",
    "            scp = nc.variables[\"scp\"][idex][:][:]\n",
    "            cin  = nc.variables[\"sbcin\"][idex][:][:]\n",
    "            #cin mask\n",
    "            term5 = np.fabs(cin)\n",
    "            term5[np.fabs(cin)>50]=0.\n",
    "            term5[np.fabs(cin)<=50]=1.\n",
    "            scp = scp * term5\n",
    "            scp[scp<1]=0.\n",
    "            scp[scp>=1]=1.\n",
    "            scp_climo = np.append(scp_climo,[scp],axis=0)\n",
    "            #print scp_climo.shape\n",
    "        scp_final=np.append(scp_final,[scp_climo],axis=0)\n",
    "        scp_climo = np.empty((0,277,349))\n",
    "        daycount+=1\n",
    "print scp_final.shape"
   ]
  },
  {
   "cell_type": "code",
   "execution_count": 6,
   "metadata": {},
   "outputs": [
    {
     "name": "stdout",
     "output_type": "stream",
     "text": [
      "(365, 277, 349)\n"
     ]
    }
   ],
   "source": [
    "#nc.close()\n",
    "mean_scp_daily = np.mean(scp_final,axis=1)\n",
    "#stdev_scp_daily = np.std(scp_final,axis=1)\n",
    "#log_values = np.log(scp_final)\n",
    "#mean_scp_daily_log = np.mean(log_values,axis=1)\n",
    "#stdev_scp_daily_log = np.std(log_values,axis=1)\n",
    "print mean_scp_daily.shape\n",
    "#print stdev_scp_daily.shape\n",
    "mean_scp_daily.dump('narr_mean_scp1probs_daily.npy') #Daily Mean\n",
    "#stdev_scp_daily.dump('narr_stdev_scp_daily.npy') #Daily STDEV\n",
    "#mean_scp_daily_log.dump('narr_mean_scp_daily_log.npy') \n",
    "#stdev_scp_daily_log.dump('narr_stdev_scp_daily_log.npy') "
   ]
  },
  {
   "cell_type": "code",
   "execution_count": 7,
   "metadata": {},
   "outputs": [
    {
     "name": "stdout",
     "output_type": "stream",
     "text": [
      "[[ 0.05263158  0.05263158  0.05263158 ...,  1.          1.          1.        ]\n",
      " [ 0.05263158  0.05263158  0.05263158 ...,  1.          1.          1.        ]\n",
      " [ 0.05263158  0.07894737  0.05263158 ...,  1.          1.          1.        ]\n",
      " ..., \n",
      " [ 1.          1.          1.         ...,  1.          1.          1.        ]\n",
      " [ 1.          1.          1.         ...,  1.          1.          1.        ]\n",
      " [ 1.          1.          1.         ...,  1.          1.          1.        ]]\n"
     ]
    }
   ],
   "source": [
    "print mean_scp_daily[0,:,:]"
   ]
  },
  {
   "cell_type": "code",
   "execution_count": null,
   "metadata": {
    "collapsed": true
   },
   "outputs": [],
   "source": []
  }
 ],
 "metadata": {
  "kernelspec": {
   "display_name": "Python [conda env:gwo]",
   "language": "python",
   "name": "conda-env-gwo-py"
  },
  "language_info": {
   "codemirror_mode": {
    "name": "ipython",
    "version": 2
   },
   "file_extension": ".py",
   "mimetype": "text/x-python",
   "name": "python",
   "nbconvert_exporter": "python",
   "pygments_lexer": "ipython2",
   "version": "2.7.11"
  }
 },
 "nbformat": 4,
 "nbformat_minor": 2
}
