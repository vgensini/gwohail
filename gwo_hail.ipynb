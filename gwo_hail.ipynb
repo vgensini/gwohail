{
 "cells": [
  {
   "cell_type": "markdown",
   "metadata": {
    "collapsed": true
   },
   "source": [
    "## Exploratory analysis of GWO / U.S. Hail relationship\n",
    "###### Inputs: gwo.csv  |  1955-2016_hail.csv\n",
    "##### Dr. Victor Gensini (Fall 2017)\n",
    "##### Department of Geographic and Atmospheric Sciences\n",
    "##### Northern Illinois University"
   ]
  },
  {
   "cell_type": "markdown",
   "metadata": {},
   "source": [
    "### Import libraries"
   ]
  },
  {
   "cell_type": "code",
   "execution_count": 1,
   "metadata": {},
   "outputs": [],
   "source": [
    "import numpy as np\n",
    "import pandas as pd\n",
    "import plotly.plotly as py\n",
    "import plotly.graph_objs as go\n",
    "from plotly import tools\n",
    "from IPython.display import Image"
   ]
  },
  {
   "cell_type": "markdown",
   "metadata": {},
   "source": [
    "### Read in datasets"
   ]
  },
  {
   "cell_type": "code",
   "execution_count": 2,
   "metadata": {
    "collapsed": true
   },
   "outputs": [],
   "source": [
    "hail_file = '1955-2016_hail.csv'\n",
    "gwo_file = 'gwo.csv'"
   ]
  },
  {
   "cell_type": "code",
   "execution_count": 3,
   "metadata": {},
   "outputs": [
    {
     "name": "stdout",
     "output_type": "stream",
     "text": [
      "This is the format of your plot grid:\n",
      "[ (1,1) x1,y1 ]\n",
      "[ (2,1) x2,y2 ]\n",
      "[ (3,1) x3,y3 ]\n",
      "\n"
     ]
    },
    {
     "data": {
      "text/html": [
       "<iframe id=\"igraph\" scrolling=\"no\" style=\"border:none;\" seamless=\"seamless\" src=\"https://plot.ly/~vgensini/24.embed\" height=\"1600px\" width=\"900px\"></iframe>"
      ],
      "text/plain": [
       "<plotly.tools.PlotlyDisplay object>"
      ]
     },
     "execution_count": 3,
     "metadata": {},
     "output_type": "execute_result"
    }
   ],
   "source": [
    "hail_df = pd.read_csv(hail_file)\n",
    "gwo_df = pd.read_csv(gwo_file)\n",
    "format = '%Y-%m-%d'\n",
    "hail_df['date']=pd.to_datetime(hail_df['date'], format=format)\n",
    "hail_df=hail_df.set_index(pd.DatetimeIndex(hail_df['date']))\n",
    "gwo_df['date']=pd.to_datetime(gwo_df['date'], format=format)\n",
    "gwo_df=gwo_df.set_index(pd.DatetimeIndex(gwo_df['date']))\n",
    "\n",
    "\n",
    "gwo1days_df = gwo_df[gwo_df.amp>=1]\n",
    "sevhail_df = hail_df[hail_df.mag>=1]\n",
    "sighail_df = hail_df[hail_df.mag>=2]\n",
    "gianthail_df = hail_df[hail_df.mag>=4]\n",
    "sev_hail_df=gwo1days_df.loc[gwo1days_df['date'].isin(sevhail_df['date'])]\n",
    "sig_hail_df=gwo1days_df.loc[gwo1days_df['date'].isin(sighail_df['date'])]\n",
    "giant_hail_df=gwo1days_df.loc[gwo1days_df['date'].isin(gianthail_df['date'])]\n",
    "\n",
    "cbarlocs = [.85, .5, .15]\n",
    "sevhail = go.Histogram2d(x=sev_hail_df.dt, y=sev_hail_df.aam,histnorm='enumerated',autobinx=False,xbins=dict(start=-4, end=4, size=0.2),autobiny=False,ybins=dict(start=-4, end=4, size=0.2),colorbar=dict(len=0.25, y=cbarlocs[0]),zmin=0, zmax=50,colorscale=[[0, 'rgb(255,255,255)'], [0.25, 'rgb(10,136,186)'], [0.5, 'rgb(242,211,56)'], [0.75, 'rgb(242,143,56)'], [1, 'rgb(217,30,30)']])\n",
    "sighail = go.Histogram2d(x=sig_hail_df.dt, y=sig_hail_df.aam,histnorm='enumerated',autobinx=False,xbins=dict(start=-4, end=4, size=0.2),autobiny=False,ybins=dict(start=-4, end=4, size=0.2),colorbar=dict(len=0.25, y=cbarlocs[1]),zmin=0, zmax=25,colorscale=[[0, 'rgb(255,255,255)'], [0.25, 'rgb(10,136,186)'], [0.5, 'rgb(242,211,56)'], [0.75, 'rgb(242,143,56)'], [1, 'rgb(217,30,30)']])\n",
    "gianthail = go.Histogram2d(x=giant_hail_df.dt, y=giant_hail_df.aam,histnorm='enumerated',autobinx=False,xbins=dict(start=-4, end=4, size=0.2),autobiny=False,ybins=dict(start=-4, end=4, size=0.2),colorbar=dict(len=0.25, y=cbarlocs[2]),zmin=0, zmax=10,colorscale=[[0, 'rgb(255,255,255)'], [0.25, 'rgb(10,136,186)'], [0.5, 'rgb(242,211,56)'], [0.75, 'rgb(242,143,56)'], [1, 'rgb(217,30,30)']])\n",
    "\n",
    "\n",
    "fig = tools.make_subplots(rows=3, cols=1,vertical_spacing=0.001,subplot_titles=('Severe hail', 'SigSevere Hail','Giant Hail'))\n",
    "\n",
    "fig.append_trace(sevhail, 1, 1)\n",
    "fig.append_trace(sighail, 2, 1)\n",
    "fig.append_trace(gianthail, 3, 1)\n",
    "\n",
    "\n",
    "fig['layout'].update(height=1600, width=900, title='Hail Reports by AAM values')\n",
    "py.iplot(fig,fileopt='overwrite')"
   ]
  }
 ],
 "metadata": {
  "anaconda-cloud": {},
  "kernelspec": {
   "display_name": "Python 2",
   "language": "python",
   "name": "python2"
  },
  "language_info": {
   "codemirror_mode": {
    "name": "ipython",
    "version": 2
   },
   "file_extension": ".py",
   "mimetype": "text/x-python",
   "name": "python",
   "nbconvert_exporter": "python",
   "pygments_lexer": "ipython2",
   "version": "2.7.13"
  }
 },
 "nbformat": 4,
 "nbformat_minor": 1
}
