{
 "cells": [
  {
   "cell_type": "markdown",
   "metadata": {
    "collapsed": true
   },
   "source": [
    "## Exploratory analysis of GWO / U.S. Hail relationship\n",
    "###### Inputs: gwo.csv  |  1955-2016_hail.csv\n",
    "##### Dr. Victor Gensini (Fall 2017)\n",
    "##### Department of Geographic and Atmospheric Sciences\n",
    "##### Northern Illinois University"
   ]
  },
  {
   "cell_type": "markdown",
   "metadata": {},
   "source": [
    "### Import libraries"
   ]
  },
  {
   "cell_type": "code",
   "execution_count": 1,
   "metadata": {
    "collapsed": true
   },
   "outputs": [],
   "source": [
    "import numpy as np\n",
    "import pandas as pd\n",
    "import matplotlib.pyplot as plt\n",
    "import matplotlib\n",
    "from IPython.display import Image"
   ]
  },
  {
   "cell_type": "markdown",
   "metadata": {},
   "source": [
    "### Read in datasets"
   ]
  },
  {
   "cell_type": "code",
   "execution_count": 2,
   "metadata": {
    "collapsed": true
   },
   "outputs": [],
   "source": [
    "hail_file = '1955-2016_hail.csv'\n",
    "gwo_file = 'gwo.csv'\n",
    "mjo_file = 'mjo.csv'"
   ]
  },
  {
   "cell_type": "code",
   "execution_count": 5,
   "metadata": {},
   "outputs": [
    {
     "data": {
      "image/png": "[encoded data removed]",
      "text/plain": [
       "<matplotlib.figure.Figure at 0x7f3170e70f98>"
      ]
     },
     "metadata": {},
     "output_type": "display_data"
    }
   ],
   "source": [
    "hail_df = pd.read_csv(hail_file)\n",
    "gwo_df = pd.read_csv(gwo_file)\n",
    "mjo_df = pd.read_csv(mjo_file)\n",
    "format1 = '%m/%d/%Y'\n",
    "format2 = '%Y-%m-%d'\n",
    "#hail_df['date']=pd.to_datetime(hail_df['date'], format=format)\n",
    "#hail_df=hail_df.set_index(pd.DatetimeIndex(hail_df['date']))\n",
    "gwo_df['date']=pd.to_datetime(gwo_df['date'], format=format2)\n",
    "gwo_df=gwo_df.set_index(pd.DatetimeIndex(gwo_df['date']))\n",
    "mjo_df['date']=pd.to_datetime(mjo_df['date'], format=format1)\n",
    "mjo_df=mjo_df.set_index(pd.DatetimeIndex(mjo_df['date']))\n",
    "query='yr>=1979 & yr<=2016'\n",
    "query1='year>=1979 & year <=2016'\n",
    "mjo_df = mjo_df.query(query)\n",
    "gwo_df = gwo_df.query(query1)\n",
    "both_df = pd.concat([mjo_df, gwo_df], axis=1)\n",
    "both_df['gwo_ph'] = both_df['phase'].apply(np.floor).apply(np.int64)\n",
    "both_df['gwo_new']=both_df.gwo_ph.replace(0, 8)\n",
    "plt.scatter(both_df['ph'],both_df['gwo_new'])\n",
    "hist_2d,xedges,yedges = np.histogram2d(both_df['ph'],both_df['gwo_new'],bins=64,range=[[1,8],[1,8]])\n",
    "extent = [xedges[0], xedges[-1], yedges[0], yedges[-1] ]\n",
    "plt.imshow(hist_2d.T,extent=extent,interpolation='nearest',origin='lower',vmin=0, vmax=1000)\n",
    "plt.show()\n",
    "#sev_hail_df=gwo1days_df.loc[gwo1days_df['date'].isin(sevhail_df['date'])]\n",
    "#sig_hail_df=gwo1days_df.loc[gwo1days_df['date'].isin(sighail_df['date'])both_df['gwo_new']]\n",
    "#giant_hail_df=gwo1days_df.loc[gwo1days_df['date'].isin(gianthail_df['date'])]"
   ]
  },
  {
   "cell_type": "code",
   "execution_count": 4,
   "metadata": {},
   "outputs": [
    {
     "name": "stdout",
     "output_type": "stream",
     "text": [
      "0.165229675528\n"
     ]
    },
    {
     "data": {
      "image/png": "[encoded data removed]",
      "text/plain": [
       "<matplotlib.figure.Figure at 0x7f3170c33780>"
      ]
     },
     "metadata": {},
     "output_type": "display_data"
    }
   ],
   "source": [
    "plt.plot(both_df['ph'])\n",
    "plt.plot(both_df['gwo_new'])\n",
    "print (both_df['ph'].corr(both_df['gwo_new']))\n",
    "plt.show()"
   ]
  },
  {
   "cell_type": "code",
   "execution_count": null,
   "metadata": {
    "collapsed": true
   },
   "outputs": [],
   "source": []
  }
 ],
 "metadata": {
  "anaconda-cloud": {},
  "kernelspec": {
   "display_name": "Python [conda env:py36]",
   "language": "python",
   "name": "conda-env-py36-py"
  },
  "language_info": {
   "codemirror_mode": {
    "name": "ipython",
    "version": 3
   },
   "file_extension": ".py",
   "mimetype": "text/x-python",
   "name": "python",
   "nbconvert_exporter": "python",
   "pygments_lexer": "ipython3",
   "version": "3.6.3"
  }
 },
 "nbformat": 4,
 "nbformat_minor": 1
}
